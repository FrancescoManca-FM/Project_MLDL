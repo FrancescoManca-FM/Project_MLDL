{
  "nbformat": 4,
  "nbformat_minor": 0,
  "metadata": {
    "colab": {
      "name": "incrementalLearningWithoutForgetting.ipynb",
      "provenance": [],
      "collapsed_sections": [
        "Gzrd6SoDNp6d",
        "QObN0rGNN2Be"
      ],
      "include_colab_link": true
    },
    "kernelspec": {
      "name": "python3",
      "display_name": "Python 3"
    },
    "language_info": {
      "name": "python"
    },
    "accelerator": "GPU"
  },
  "cells": [
    {
      "cell_type": "markdown",
      "metadata": {
        "id": "view-in-github",
        "colab_type": "text"
      },
      "source": [
        "<a href=\"https://colab.research.google.com/github/FrancescoManca-FM/Project_MLDL/blob/main/incrementalLearningWithoutForgetting.ipynb\" target=\"_parent\"><img src=\"https://colab.research.google.com/assets/colab-badge.svg\" alt=\"Open In Colab\"/></a>"
      ]
    },
    {
      "cell_type": "code",
      "metadata": {
        "id": "_oLqIHr_uy-n",
        "colab": {
          "base_uri": "https://localhost:8080/"
        },
        "outputId": "699ca50f-7fd5-47aa-9b97-f3d005382c74"
      },
      "source": [
        "!nvidia-smi"
      ],
      "execution_count": 1,
      "outputs": [
        {
          "output_type": "stream",
          "text": [
            "Thu Jun  3 07:35:29 2021       \n",
            "+-----------------------------------------------------------------------------+\n",
            "| NVIDIA-SMI 465.27       Driver Version: 460.32.03    CUDA Version: 11.2     |\n",
            "|-------------------------------+----------------------+----------------------+\n",
            "| GPU  Name        Persistence-M| Bus-Id        Disp.A | Volatile Uncorr. ECC |\n",
            "| Fan  Temp  Perf  Pwr:Usage/Cap|         Memory-Usage | GPU-Util  Compute M. |\n",
            "|                               |                      |               MIG M. |\n",
            "|===============================+======================+======================|\n",
            "|   0  Tesla K80           Off  | 00000000:00:04.0 Off |                    0 |\n",
            "| N/A   67C    P8    28W / 149W |      0MiB / 11441MiB |      0%      Default |\n",
            "|                               |                      |                  N/A |\n",
            "+-------------------------------+----------------------+----------------------+\n",
            "                                                                               \n",
            "+-----------------------------------------------------------------------------+\n",
            "| Processes:                                                                  |\n",
            "|  GPU   GI   CI        PID   Type   Process name                  GPU Memory |\n",
            "|        ID   ID                                                   Usage      |\n",
            "|=============================================================================|\n",
            "|  No running processes found                                                 |\n",
            "+-----------------------------------------------------------------------------+\n"
          ],
          "name": "stdout"
        }
      ]
    },
    {
      "cell_type": "code",
      "metadata": {
        "id": "YUHNE0YdXMlR"
      },
      "source": [
        "import torch \n",
        "import torchvision\n",
        "import torchvision.transforms as transforms \n",
        "import torch.nn.functional as F\n",
        "import copy\n",
        "from torch.nn.init import xavier_uniform_ \n",
        "from torch.nn.init import kaiming_uniform_"
      ],
      "execution_count": 2,
      "outputs": []
    },
    {
      "cell_type": "markdown",
      "metadata": {
        "id": "UivF_HGCTWYe"
      },
      "source": [
        "### DATA LOADER"
      ]
    },
    {
      "cell_type": "code",
      "metadata": {
        "colab": {
          "base_uri": "https://localhost:8080/"
        },
        "id": "QleCp90XDa2a",
        "outputId": "ab76fa77-7483-4811-b498-fc3ee709a820"
      },
      "source": [
        "# we build a transform to normalize images: Data normalization is an important step which ensures \n",
        "# each input parameter (pixel, in this case) has a similar data distribution. This makes convergence \n",
        "# faster while training the network.\n",
        "transform = transforms.Compose(\n",
        "    [transforms.ToTensor(),\n",
        "     transforms.Normalize((0.5, 0.5, 0.5), (0.5, 0.5, 0.5))])\n",
        "batch_size = 128\n",
        "\n",
        "trainset_raw = torchvision.datasets.CIFAR100(root='./data', train=True, \n",
        "                                         download=True, transform=transform)\n",
        "\n",
        "for i in range(len(trainset_raw)):\n",
        "  if(i==0):\n",
        "    trainset = [[trainset_raw[i][0], trainset_raw[i][1]]]\n",
        "  else:\n",
        "    trainset.append([trainset_raw[i][0], trainset_raw[i][1]])\n",
        "\n",
        "\n",
        "# DataLoader. Combines a dataset and a sampler, and provides an iterable over the given dataset.\n",
        "# batch_size = how many samples per batch to load\n",
        "trainloader = torch.utils.data.DataLoader(trainset, batch_size=batch_size,\n",
        "                                          shuffle=True, num_workers=2)\n",
        "\n",
        "testset_raw = torchvision.datasets.CIFAR100(root='./data', train=False,\n",
        "                                       download=True, transform=transform)\n",
        "for i in range(len(testset_raw)):\n",
        "  if(i==0):\n",
        "    testset = [[testset_raw[i][0], testset_raw[i][1]]]\n",
        "  else:\n",
        "    testset.append([testset_raw[i][0], testset_raw[i][1]])\n",
        "testloader = torch.utils.data.DataLoader(testset, batch_size=batch_size,\n",
        "                                         shuffle=False, num_workers=2)"
      ],
      "execution_count": 3,
      "outputs": [
        {
          "output_type": "stream",
          "text": [
            "Files already downloaded and verified\n",
            "Files already downloaded and verified\n"
          ],
          "name": "stdout"
        }
      ]
    },
    {
      "cell_type": "markdown",
      "metadata": {
        "id": "oXdZrK0zNwvw"
      },
      "source": [
        "### NETWORK"
      ]
    },
    {
      "cell_type": "code",
      "metadata": {
        "id": "8kAHBaHJ4Td1"
      },
      "source": [
        "import torch.nn as nn\n",
        "import math\n",
        "import torch.utils.model_zoo as model_zoo\n",
        "\n",
        "\n",
        "def conv3x3(in_planes, out_planes, stride=1):\n",
        "    \"\"\"3x3 convolution with padding\"\"\"\n",
        "    return nn.Conv2d(in_planes, out_planes, kernel_size=3, stride=stride,padding=1, bias=False)\n",
        "\n",
        "class BasicBlock(nn.Module):\n",
        "    expansion = 1\n",
        "\n",
        "    def __init__(self, inplanes, planes, stride=1, downsample=None):\n",
        "        super(BasicBlock, self).__init__()\n",
        "        \n",
        "        self.conv1 = conv3x3(inplanes, planes, stride)\n",
        "        self.bn1 = nn.BatchNorm2d(planes)\n",
        "        self.relu = nn.ReLU(inplace=True)\n",
        "        self.conv2 = conv3x3(planes, planes)\n",
        "        self.bn2 = nn.BatchNorm2d(planes)\n",
        "\n",
        "        self.downsample = downsample\n",
        "        self.stride = stride\n",
        "\n",
        "    def forward(self, x):\n",
        "        residual = x\n",
        "\n",
        "        out = self.conv1(x)\n",
        "        out = self.bn1(out)\n",
        "        out = self.relu(out)\n",
        "\n",
        "        out = self.conv2(out)\n",
        "        out = self.bn2(out)\n",
        "\n",
        "        if self.downsample is not None:\n",
        "            residual = self.downsample(x)\n",
        "\n",
        "        out += residual\n",
        "        out = self.relu(out)\n",
        "\n",
        "        return out\n",
        "\n",
        "class ResNet(nn.Module):\n",
        "\n",
        "    def __init__(self, block, layers, num_classes=10):\n",
        "        self.inplanes = 16\n",
        "        super(ResNet, self).__init__()\n",
        "        self.conv1 = nn.Conv2d(3, 16, kernel_size=3, stride=1, padding=1,\n",
        "                               bias=False)\n",
        "        self.bn1 = nn.BatchNorm2d(16)\n",
        "        self.relu = nn.ReLU(inplace=True)\n",
        "        self.layer1 = self._make_layer(block, 16, layers[0])\n",
        "        self.layer2 = self._make_layer(block, 32, layers[1], stride=2)\n",
        "        self.layer3 = self._make_layer(block, 64, layers[2], stride=2)\n",
        "        self.avgpool = nn.AvgPool2d(8, stride=1)\n",
        "\n",
        "        self.fc = nn.Linear(64 * block.expansion, num_classes)\n",
        "\n",
        "        for m in self.modules():\n",
        "            if isinstance(m, nn.Conv2d):\n",
        "                nn.init.kaiming_normal_(m.weight, mode='fan_out', nonlinearity='relu')\n",
        "            elif isinstance(m, nn.BatchNorm2d):\n",
        "                nn.init.constant_(m.weight, 1)\n",
        "                nn.init.constant_(m.bias, 0)\n",
        "        \n",
        "\n",
        "    def _make_layer(self, block, planes, blocks, stride=1):\n",
        "        downsample = None\n",
        "        if stride != 1 or self.inplanes != planes * block.expansion:\n",
        "            downsample = nn.Sequential(\n",
        "                nn.Conv2d(self.inplanes, planes * block.expansion,\n",
        "                          kernel_size=1, stride=stride, bias=False),\n",
        "                nn.BatchNorm2d(planes * block.expansion),\n",
        "            )\n",
        "\n",
        "        layers = []\n",
        "        layers.append(block(self.inplanes, planes, stride, downsample))\n",
        "        self.inplanes = planes * block.expansion\n",
        "        for i in range(1, blocks):\n",
        "            layers.append(block(self.inplanes, planes))\n",
        "\n",
        "        return nn.Sequential(*layers)\n",
        "\n",
        "    def forward(self, x):\n",
        "        x = self.conv1(x)\n",
        "        x = self.bn1(x)\n",
        "        x = self.relu(x)\n",
        "\n",
        "        x = self.layer1(x)\n",
        "        x = self.layer2(x)\n",
        "        x = self.layer3(x)\n",
        "\n",
        "        x = self.avgpool(x)\n",
        "        x = x.view(x.size(0), -1)\n",
        "        x = self.fc(x)\n",
        "\n",
        "        return x\n",
        "\n",
        "    # def addOutputNodes(self, num_new_outputs):\n",
        "    #     in_features = self.fc.in_features\n",
        "    #     out_features = self.fc.out_features\n",
        "    #     weight = self.fc.weight.data\n",
        "\n",
        "    #     self.fc = nn.Linear(in_features, out_features + num_new_outputs)\n",
        "\n",
        "    #     #xavier initialization\n",
        "    #     xavier_uniform_(self.fc.weight)\n",
        "        \n",
        "    #     self.fc.weight.data[:out_features] = weight\n",
        "        \n",
        "def resnet32(pretrained=False, **kwargs):\n",
        "    n = 5\n",
        "    model = ResNet(BasicBlock, [n, n, n], **kwargs)\n",
        "    return model"
      ],
      "execution_count": 4,
      "outputs": []
    },
    {
      "cell_type": "code",
      "metadata": {
        "id": "FH0rf0sTOB1r"
      },
      "source": [
        "class LWF(nn.Module):\n",
        "  def __init__(self, feature_size, n_classes):\n",
        "    super(LWF,self).__init__()\n",
        "    self.feature_extractor = resnet32()\n",
        "    self.feature_extractor.fc = nn.Linear(self.feature_extractor.fc.in_features, feature_size)\n",
        "    self.bn =  nn.BatchNorm1d(feature_size, momentum=0.9)\n",
        "    self.ReLU = nn.ReLU()\n",
        "\n",
        "    self.fc = nn.Linear(feature_size, n_classes, bias = False)\n",
        "\n",
        "  def forward(self, x):\n",
        "    x = self.feature_extractor(x)\n",
        "    x = self.bn(x)\n",
        "    x = self.ReLU(x)\n",
        "    x = self.fc(x)\n",
        "\n",
        "    return x\n",
        "\n",
        "  def increment_classes(self, n):\n",
        "    \"\"\"Add n classes in the final fc layer\"\"\"\n",
        "    in_features = self.fc.in_features\n",
        "    out_features = self.fc.out_features\n",
        "    weight = self.fc.weight.data\n",
        "\n",
        "    #xavier initialization\n",
        "    # xavier_uniform_(self.fc.weight)\n",
        "\n",
        "    self.fc = nn.Linear(in_features, out_features + n, bias = False)\n",
        "    self.fc.weight.data[:out_features] = weight"
      ],
      "execution_count": 5,
      "outputs": []
    },
    {
      "cell_type": "code",
      "metadata": {
        "colab": {
          "base_uri": "https://localhost:8080/"
        },
        "id": "y1JeZ9NB4ZxS",
        "outputId": "292fa50c-4610-4d19-94a5-c0e1f460035e"
      },
      "source": [
        "device = torch.device(\"cuda:0\" if torch.cuda.is_available() else 'cpu')\n",
        "feature_size = 2048\n",
        "n_classes = 10\n",
        "net = LWF(feature_size, n_classes)\n",
        "net.to(device)"
      ],
      "execution_count": 6,
      "outputs": [
        {
          "output_type": "execute_result",
          "data": {
            "text/plain": [
              "LWF(\n",
              "  (feature_extractor): ResNet(\n",
              "    (conv1): Conv2d(3, 16, kernel_size=(3, 3), stride=(1, 1), padding=(1, 1), bias=False)\n",
              "    (bn1): BatchNorm2d(16, eps=1e-05, momentum=0.1, affine=True, track_running_stats=True)\n",
              "    (relu): ReLU(inplace=True)\n",
              "    (layer1): Sequential(\n",
              "      (0): BasicBlock(\n",
              "        (conv1): Conv2d(16, 16, kernel_size=(3, 3), stride=(1, 1), padding=(1, 1), bias=False)\n",
              "        (bn1): BatchNorm2d(16, eps=1e-05, momentum=0.1, affine=True, track_running_stats=True)\n",
              "        (relu): ReLU(inplace=True)\n",
              "        (conv2): Conv2d(16, 16, kernel_size=(3, 3), stride=(1, 1), padding=(1, 1), bias=False)\n",
              "        (bn2): BatchNorm2d(16, eps=1e-05, momentum=0.1, affine=True, track_running_stats=True)\n",
              "      )\n",
              "      (1): BasicBlock(\n",
              "        (conv1): Conv2d(16, 16, kernel_size=(3, 3), stride=(1, 1), padding=(1, 1), bias=False)\n",
              "        (bn1): BatchNorm2d(16, eps=1e-05, momentum=0.1, affine=True, track_running_stats=True)\n",
              "        (relu): ReLU(inplace=True)\n",
              "        (conv2): Conv2d(16, 16, kernel_size=(3, 3), stride=(1, 1), padding=(1, 1), bias=False)\n",
              "        (bn2): BatchNorm2d(16, eps=1e-05, momentum=0.1, affine=True, track_running_stats=True)\n",
              "      )\n",
              "      (2): BasicBlock(\n",
              "        (conv1): Conv2d(16, 16, kernel_size=(3, 3), stride=(1, 1), padding=(1, 1), bias=False)\n",
              "        (bn1): BatchNorm2d(16, eps=1e-05, momentum=0.1, affine=True, track_running_stats=True)\n",
              "        (relu): ReLU(inplace=True)\n",
              "        (conv2): Conv2d(16, 16, kernel_size=(3, 3), stride=(1, 1), padding=(1, 1), bias=False)\n",
              "        (bn2): BatchNorm2d(16, eps=1e-05, momentum=0.1, affine=True, track_running_stats=True)\n",
              "      )\n",
              "      (3): BasicBlock(\n",
              "        (conv1): Conv2d(16, 16, kernel_size=(3, 3), stride=(1, 1), padding=(1, 1), bias=False)\n",
              "        (bn1): BatchNorm2d(16, eps=1e-05, momentum=0.1, affine=True, track_running_stats=True)\n",
              "        (relu): ReLU(inplace=True)\n",
              "        (conv2): Conv2d(16, 16, kernel_size=(3, 3), stride=(1, 1), padding=(1, 1), bias=False)\n",
              "        (bn2): BatchNorm2d(16, eps=1e-05, momentum=0.1, affine=True, track_running_stats=True)\n",
              "      )\n",
              "      (4): BasicBlock(\n",
              "        (conv1): Conv2d(16, 16, kernel_size=(3, 3), stride=(1, 1), padding=(1, 1), bias=False)\n",
              "        (bn1): BatchNorm2d(16, eps=1e-05, momentum=0.1, affine=True, track_running_stats=True)\n",
              "        (relu): ReLU(inplace=True)\n",
              "        (conv2): Conv2d(16, 16, kernel_size=(3, 3), stride=(1, 1), padding=(1, 1), bias=False)\n",
              "        (bn2): BatchNorm2d(16, eps=1e-05, momentum=0.1, affine=True, track_running_stats=True)\n",
              "      )\n",
              "    )\n",
              "    (layer2): Sequential(\n",
              "      (0): BasicBlock(\n",
              "        (conv1): Conv2d(16, 32, kernel_size=(3, 3), stride=(2, 2), padding=(1, 1), bias=False)\n",
              "        (bn1): BatchNorm2d(32, eps=1e-05, momentum=0.1, affine=True, track_running_stats=True)\n",
              "        (relu): ReLU(inplace=True)\n",
              "        (conv2): Conv2d(32, 32, kernel_size=(3, 3), stride=(1, 1), padding=(1, 1), bias=False)\n",
              "        (bn2): BatchNorm2d(32, eps=1e-05, momentum=0.1, affine=True, track_running_stats=True)\n",
              "        (downsample): Sequential(\n",
              "          (0): Conv2d(16, 32, kernel_size=(1, 1), stride=(2, 2), bias=False)\n",
              "          (1): BatchNorm2d(32, eps=1e-05, momentum=0.1, affine=True, track_running_stats=True)\n",
              "        )\n",
              "      )\n",
              "      (1): BasicBlock(\n",
              "        (conv1): Conv2d(32, 32, kernel_size=(3, 3), stride=(1, 1), padding=(1, 1), bias=False)\n",
              "        (bn1): BatchNorm2d(32, eps=1e-05, momentum=0.1, affine=True, track_running_stats=True)\n",
              "        (relu): ReLU(inplace=True)\n",
              "        (conv2): Conv2d(32, 32, kernel_size=(3, 3), stride=(1, 1), padding=(1, 1), bias=False)\n",
              "        (bn2): BatchNorm2d(32, eps=1e-05, momentum=0.1, affine=True, track_running_stats=True)\n",
              "      )\n",
              "      (2): BasicBlock(\n",
              "        (conv1): Conv2d(32, 32, kernel_size=(3, 3), stride=(1, 1), padding=(1, 1), bias=False)\n",
              "        (bn1): BatchNorm2d(32, eps=1e-05, momentum=0.1, affine=True, track_running_stats=True)\n",
              "        (relu): ReLU(inplace=True)\n",
              "        (conv2): Conv2d(32, 32, kernel_size=(3, 3), stride=(1, 1), padding=(1, 1), bias=False)\n",
              "        (bn2): BatchNorm2d(32, eps=1e-05, momentum=0.1, affine=True, track_running_stats=True)\n",
              "      )\n",
              "      (3): BasicBlock(\n",
              "        (conv1): Conv2d(32, 32, kernel_size=(3, 3), stride=(1, 1), padding=(1, 1), bias=False)\n",
              "        (bn1): BatchNorm2d(32, eps=1e-05, momentum=0.1, affine=True, track_running_stats=True)\n",
              "        (relu): ReLU(inplace=True)\n",
              "        (conv2): Conv2d(32, 32, kernel_size=(3, 3), stride=(1, 1), padding=(1, 1), bias=False)\n",
              "        (bn2): BatchNorm2d(32, eps=1e-05, momentum=0.1, affine=True, track_running_stats=True)\n",
              "      )\n",
              "      (4): BasicBlock(\n",
              "        (conv1): Conv2d(32, 32, kernel_size=(3, 3), stride=(1, 1), padding=(1, 1), bias=False)\n",
              "        (bn1): BatchNorm2d(32, eps=1e-05, momentum=0.1, affine=True, track_running_stats=True)\n",
              "        (relu): ReLU(inplace=True)\n",
              "        (conv2): Conv2d(32, 32, kernel_size=(3, 3), stride=(1, 1), padding=(1, 1), bias=False)\n",
              "        (bn2): BatchNorm2d(32, eps=1e-05, momentum=0.1, affine=True, track_running_stats=True)\n",
              "      )\n",
              "    )\n",
              "    (layer3): Sequential(\n",
              "      (0): BasicBlock(\n",
              "        (conv1): Conv2d(32, 64, kernel_size=(3, 3), stride=(2, 2), padding=(1, 1), bias=False)\n",
              "        (bn1): BatchNorm2d(64, eps=1e-05, momentum=0.1, affine=True, track_running_stats=True)\n",
              "        (relu): ReLU(inplace=True)\n",
              "        (conv2): Conv2d(64, 64, kernel_size=(3, 3), stride=(1, 1), padding=(1, 1), bias=False)\n",
              "        (bn2): BatchNorm2d(64, eps=1e-05, momentum=0.1, affine=True, track_running_stats=True)\n",
              "        (downsample): Sequential(\n",
              "          (0): Conv2d(32, 64, kernel_size=(1, 1), stride=(2, 2), bias=False)\n",
              "          (1): BatchNorm2d(64, eps=1e-05, momentum=0.1, affine=True, track_running_stats=True)\n",
              "        )\n",
              "      )\n",
              "      (1): BasicBlock(\n",
              "        (conv1): Conv2d(64, 64, kernel_size=(3, 3), stride=(1, 1), padding=(1, 1), bias=False)\n",
              "        (bn1): BatchNorm2d(64, eps=1e-05, momentum=0.1, affine=True, track_running_stats=True)\n",
              "        (relu): ReLU(inplace=True)\n",
              "        (conv2): Conv2d(64, 64, kernel_size=(3, 3), stride=(1, 1), padding=(1, 1), bias=False)\n",
              "        (bn2): BatchNorm2d(64, eps=1e-05, momentum=0.1, affine=True, track_running_stats=True)\n",
              "      )\n",
              "      (2): BasicBlock(\n",
              "        (conv1): Conv2d(64, 64, kernel_size=(3, 3), stride=(1, 1), padding=(1, 1), bias=False)\n",
              "        (bn1): BatchNorm2d(64, eps=1e-05, momentum=0.1, affine=True, track_running_stats=True)\n",
              "        (relu): ReLU(inplace=True)\n",
              "        (conv2): Conv2d(64, 64, kernel_size=(3, 3), stride=(1, 1), padding=(1, 1), bias=False)\n",
              "        (bn2): BatchNorm2d(64, eps=1e-05, momentum=0.1, affine=True, track_running_stats=True)\n",
              "      )\n",
              "      (3): BasicBlock(\n",
              "        (conv1): Conv2d(64, 64, kernel_size=(3, 3), stride=(1, 1), padding=(1, 1), bias=False)\n",
              "        (bn1): BatchNorm2d(64, eps=1e-05, momentum=0.1, affine=True, track_running_stats=True)\n",
              "        (relu): ReLU(inplace=True)\n",
              "        (conv2): Conv2d(64, 64, kernel_size=(3, 3), stride=(1, 1), padding=(1, 1), bias=False)\n",
              "        (bn2): BatchNorm2d(64, eps=1e-05, momentum=0.1, affine=True, track_running_stats=True)\n",
              "      )\n",
              "      (4): BasicBlock(\n",
              "        (conv1): Conv2d(64, 64, kernel_size=(3, 3), stride=(1, 1), padding=(1, 1), bias=False)\n",
              "        (bn1): BatchNorm2d(64, eps=1e-05, momentum=0.1, affine=True, track_running_stats=True)\n",
              "        (relu): ReLU(inplace=True)\n",
              "        (conv2): Conv2d(64, 64, kernel_size=(3, 3), stride=(1, 1), padding=(1, 1), bias=False)\n",
              "        (bn2): BatchNorm2d(64, eps=1e-05, momentum=0.1, affine=True, track_running_stats=True)\n",
              "      )\n",
              "    )\n",
              "    (avgpool): AvgPool2d(kernel_size=8, stride=1, padding=0)\n",
              "    (fc): Linear(in_features=64, out_features=2048, bias=True)\n",
              "  )\n",
              "  (bn): BatchNorm1d(2048, eps=1e-05, momentum=0.9, affine=True, track_running_stats=True)\n",
              "  (ReLU): ReLU()\n",
              "  (fc): Linear(in_features=2048, out_features=10, bias=False)\n",
              ")"
            ]
          },
          "metadata": {
            "tags": []
          },
          "execution_count": 6
        }
      ]
    },
    {
      "cell_type": "markdown",
      "metadata": {
        "id": "QObN0rGNN2Be"
      },
      "source": [
        "### LOSS & PARAMETERS"
      ]
    },
    {
      "cell_type": "code",
      "metadata": {
        "id": "vUMJGDLO4cR-"
      },
      "source": [
        "lr = 0.01\n",
        "decay = 0.00001\n",
        "epochs = 20\n",
        "momentum = 0.9\n",
        "factor = 5"
      ],
      "execution_count": 7,
      "outputs": []
    },
    {
      "cell_type": "code",
      "metadata": {
        "id": "CLf5BCR-4c3X"
      },
      "source": [
        "import torch.optim as optim\n",
        "import torch.nn as nn\n",
        "\n",
        "bceLoss = nn.BCEWithLogitsLoss()\n",
        "optimizer = optim.SGD(net.parameters(), lr = lr, weight_decay=decay,momentum= momentum)"
      ],
      "execution_count": 8,
      "outputs": []
    },
    {
      "cell_type": "markdown",
      "metadata": {
        "id": "Te6KvRNKN5k_"
      },
      "source": [
        "### TRAINING BCE LOSS"
      ]
    },
    {
      "cell_type": "code",
      "metadata": {
        "id": "k-BsI39t38kM"
      },
      "source": [
        "# def training(trainloader, iteration, network, device, epochs, num_classes):\n",
        "\n",
        "#   num_classes_till_previous_step = iteration * num_classes\n",
        "#   num_current_classes = num_classes_till_previous_step + num_classes\n",
        "#   total_classes = 100\n",
        "\n",
        "#   distillation_loss = 0\n",
        "\n",
        "#   old_net = copy.deepcopy(network)\n",
        "#   old_net.eval()\n",
        "  \n",
        "#   if (iteration != 0):\n",
        "#     # add 10 output nodes to the network\n",
        "#     network.increment_classes(num_classes)\n",
        "#     network.to(device)\n",
        "\n",
        "#   optimizer = optim.SGD(network.parameters(), lr = lr, weight_decay=decay,momentum= momentum)\n",
        " \n",
        " \n",
        "#   #train the network\n",
        "#   for epoch in range(epochs):\n",
        "#     if (epoch == 49 or epoch == 63):\n",
        "#      optimizer.param_groups[0]['lr'] = optimizer.param_groups[0]['lr'] / factor\n",
        "\n",
        "#     running_loss = 0.0\n",
        "#     for i, data in enumerate(trainloader, 0):\n",
        "#       inputs = data[0].to(device)\n",
        "#       labels = data[1].to(device)\n",
        "#       optimizer.zero_grad()\n",
        "#       logits = network.forward(inputs)\n",
        "#       distilled_targets = get_one_hot(labels, num_current_classes, device)\n",
        "      \n",
        "#       if iteration > 0:\n",
        "#         logits_old = old_net(inputs)\n",
        "#         distilled_targets[:, 0:num_classes_till_previous_step] = torch.sigmoid(logits_old)\n",
        "\n",
        "#       loss = bceLoss(logits, distilled_targets) #* (num_current_classes / total_classes)\n",
        "\n",
        "#       # redesign the weights evaluating the performance of the network\n",
        "#       loss.backward()\n",
        "#       # update parameters\n",
        "#       optimizer.step()\n",
        "\n",
        "#       running_loss += loss.item()\n",
        "#       if i % 20 == 19:    \n",
        "#         print('[%d, %5d] loss: %.3f' % (epoch + 1, i + 1, running_loss / 20))\n",
        "#         running_loss = 0.0\n",
        "\n",
        "#   return network"
      ],
      "execution_count": 9,
      "outputs": []
    },
    {
      "cell_type": "code",
      "metadata": {
        "id": "gFrwsyMN3_dO"
      },
      "source": [
        "# def get_one_hot(target,num_class, device):\n",
        "#   one_hot=torch.zeros(target.shape[0],num_class).to(device)\n",
        "#   one_hot=one_hot.scatter(dim=1,index=target.long().view(-1,1),value=1.)\n",
        "#   return one_hot"
      ],
      "execution_count": 10,
      "outputs": []
    },
    {
      "cell_type": "markdown",
      "metadata": {
        "id": "zOEE58LJWeAQ"
      },
      "source": [
        "### training (bce loss)"
      ]
    },
    {
      "cell_type": "code",
      "metadata": {
        "id": "UXIC_IO6WgTB"
      },
      "source": [
        "def training(trainloader, iteration, network, device, epochs, num_classes):\n",
        "  \n",
        "  num_classes_till_previous_step = iteration * num_classes\n",
        "  num_current_classes = num_classes_till_previous_step + num_classes\n",
        "  total_classes = 100\n",
        "\n",
        "  distillation_loss = 0\n",
        "  \n",
        "  old_net = copy.deepcopy(network)\n",
        "  old_net.eval()\n",
        "  \n",
        "  if (iteration != 0):\n",
        "    # add 10 output nodes to the network\n",
        "    network.increment_classes(num_classes)\n",
        "    network.to(device)\n",
        "\n",
        "  # net = network.feature_extractor\n",
        "  # net = net.to(device)\n",
        "\n",
        "  optimizer = optim.SGD(network.parameters(), lr = lr, weight_decay=decay,momentum= momentum)\n",
        " \n",
        "  network.train()\n",
        "\n",
        "  #train the network\n",
        "  for epoch in range(epochs):\n",
        "    if (epoch == 49 or epoch == 63):\n",
        "     optimizer.param_groups[0]['lr'] = optimizer.param_groups[0]['lr'] / factor\n",
        "\n",
        "    running_loss = 0.0\n",
        "    for i, data in enumerate(trainloader, 0):\n",
        "      inputs = data[0].to(device)\n",
        "      labels = data[1].to(device)\n",
        "\n",
        "      optimizer.zero_grad()\n",
        "\n",
        "      \"\"\"logits = network.forward(inputs)\n",
        "\n",
        "      distilled_targets = get_one_hot(labels, num_current_classes, device)\n",
        "      \n",
        "      if iteration > 0:\n",
        "        logits_old = old_net(inputs)\n",
        "        distilled_targets[:, 0:num_classes_till_previous_step] = torch.sigmoid(logits_old)\n",
        "\n",
        "\n",
        "      loss = bceLoss(logits, distilled_targets) * (num_current_classes / total_classes)\"\"\"\n",
        "\n",
        "      #cross tentativo \n",
        "      outputs = network.forward(inputs)\n",
        "      loss = nn.CrossEntropyLoss()(outputs,labels)\n",
        "\n",
        "\n",
        "      # redesign the weights evaluating the performance of the network\n",
        "      loss.backward()\n",
        "      # update parameters\n",
        "      optimizer.step()\n",
        "\n",
        "      running_loss += loss.item()\n",
        "      if i % 20 == 19:    \n",
        "        print('[%d, %5d] loss: %.3f' % (epoch + 1, i + 1, running_loss / 20))\n",
        "        running_loss = 0.0\n"
      ],
      "execution_count": 11,
      "outputs": []
    },
    {
      "cell_type": "code",
      "metadata": {
        "id": "jZruRj2tBylu"
      },
      "source": [
        "def get_one_hot(target,num_class, device):\n",
        "  one_hot=torch.zeros(target.shape[0],num_class).to(device)\n",
        "  one_hot=one_hot.scatter(dim=1,index=target.long().view(-1,1),value=1.)\n",
        "  return one_hot"
      ],
      "execution_count": 12,
      "outputs": []
    },
    {
      "cell_type": "markdown",
      "metadata": {
        "id": "SHr8sBA_N-zJ"
      },
      "source": [
        "### TEST"
      ]
    },
    {
      "cell_type": "code",
      "metadata": {
        "id": "cefaruFe3_DP",
        "colab": {
          "base_uri": "https://localhost:8080/",
          "height": 0
        },
        "outputId": "f57950cf-905f-4c15-90e2-42b829750035"
      },
      "source": [
        "\"\"\"\n",
        "def test(testloader, iteration, network, acc):\n",
        "\n",
        "  correct = 0\n",
        "  total = 0\n",
        "  print(\"ITERATION: \", iteration)\n",
        "  \n",
        "  # since we're not training, we don't need to calculate the gradients for our outputs\n",
        "  with torch.no_grad():\n",
        "      for data in testloader:\n",
        "          images, labels = data[0].to(device), data[1].to(device)\n",
        "\n",
        "          # calculate outputs by running images through the network\n",
        "          outputs = network.forward(images)\n",
        "\n",
        "          # the class with the highest energy is what we choose as prediction\n",
        "          _, predicted = torch.max(outputs.data, 1)\n",
        "          total += labels.size(0)\n",
        "          correct += (predicted == labels).sum().item()\n",
        "         \n",
        "        \n",
        "  acc.append(100*correct/total)\n",
        "  print(f'Accuracy of the network on the {iteration} iteration: %d %%' % (100 * correct / total))\n",
        "  \"\"\""
      ],
      "execution_count": 13,
      "outputs": [
        {
          "output_type": "execute_result",
          "data": {
            "application/vnd.google.colaboratory.intrinsic+json": {
              "type": "string"
            },
            "text/plain": [
              "'\\ndef test(testloader, iteration, network, acc):\\n\\n  correct = 0\\n  total = 0\\n  print(\"ITERATION: \", iteration)\\n  \\n  # since we\\'re not training, we don\\'t need to calculate the gradients for our outputs\\n  with torch.no_grad():\\n      for data in testloader:\\n          images, labels = data[0].to(device), data[1].to(device)\\n\\n          # calculate outputs by running images through the network\\n          outputs = network.forward(images)\\n\\n          # the class with the highest energy is what we choose as prediction\\n          _, predicted = torch.max(outputs.data, 1)\\n          total += labels.size(0)\\n          correct += (predicted == labels).sum().item()\\n         \\n        \\n  acc.append(100*correct/total)\\n  print(f\\'Accuracy of the network on the {iteration} iteration: %d %%\\' % (100 * correct / total))\\n  '"
            ]
          },
          "metadata": {
            "tags": []
          },
          "execution_count": 13
        }
      ]
    },
    {
      "cell_type": "markdown",
      "metadata": {
        "id": "1LxjrgyTOBWN"
      },
      "source": [
        "### EXECUTION "
      ]
    },
    {
      "cell_type": "code",
      "metadata": {
        "id": "0bLZetGa4F_o",
        "colab": {
          "base_uri": "https://localhost:8080/",
          "height": 0
        },
        "outputId": "a26ee2a4-a1fd-4be2-cd38-38ba09281770"
      },
      "source": [
        "\"\"\"\n",
        "# divided our dataset into sample of 10 classes each\n",
        "# train the network on the first 10 classes\n",
        "# evaluate the network on the first 10 classes\n",
        "# train the network on the second 10 classes (adding 10 output layers)\n",
        "# evaluate the network on the first 20 classes\n",
        "iterations= 10 \n",
        "num_classes = 10\n",
        "test_set = [] #initialized here because we test over all the classes not only those one in which I train\n",
        "acc = []\n",
        "import random\n",
        "#indices = list(range(0,100))\n",
        "#random.shuffle(indices)\n",
        "for i in range(iterations):\n",
        "  classes_current_iter = range(i*num_classes, i*num_classes+num_classes)\n",
        "  train_iter = [] \n",
        "  for j in range(len(trainset)):\n",
        "    if(trainset[j][-1] in classes_current_iter):\n",
        "      test_set.append(trainset[j]) \n",
        "      train_iter.append(trainset[j])\n",
        "\n",
        "\n",
        "  train_loader = torch.utils.data.DataLoader(train_iter, shuffle = True, batch_size=batch_size, num_workers=2)\n",
        "  valid_loader = torch.utils.data.DataLoader(test_set, shuffle = True, batch_size = batch_size, num_workers=2) \n",
        "  training(train_loader, i, net, device, epochs, num_classes) # Train the network with 10 classes at a time\n",
        "\n",
        "  test(valid_loader, i, net, acc) # Test the network with all classes seen until this iteration\n",
        "  \"\"\""
      ],
      "execution_count": 14,
      "outputs": [
        {
          "output_type": "execute_result",
          "data": {
            "application/vnd.google.colaboratory.intrinsic+json": {
              "type": "string"
            },
            "text/plain": [
              "'\\n# divided our dataset into sample of 10 classes each\\n# train the network on the first 10 classes\\n# evaluate the network on the first 10 classes\\n# train the network on the second 10 classes (adding 10 output layers)\\n# evaluate the network on the first 20 classes\\niterations= 10 \\nnum_classes = 10\\ntest_set = [] #initialized here because we test over all the classes not only those one in which I train\\nacc = []\\nimport random\\n#indices = list(range(0,100))\\n#random.shuffle(indices)\\nfor i in range(iterations):\\n  classes_current_iter = range(i*num_classes, i*num_classes+num_classes)\\n  train_iter = [] \\n  for j in range(len(trainset)):\\n    if(trainset[j][-1] in classes_current_iter):\\n      test_set.append(trainset[j]) \\n      train_iter.append(trainset[j])\\n\\n\\n  train_loader = torch.utils.data.DataLoader(train_iter, shuffle = True, batch_size=batch_size, num_workers=2)\\n  valid_loader = torch.utils.data.DataLoader(test_set, shuffle = True, batch_size = batch_size, num_workers=2) \\n  training(train_loader, i, net, device, epochs, num_classes) # Train the network with 10 classes at a time\\n\\n  test(valid_loader, i, net, acc) # Test the network with all classes seen until this iteration\\n  '"
            ]
          },
          "metadata": {
            "tags": []
          },
          "execution_count": 14
        }
      ]
    },
    {
      "cell_type": "markdown",
      "metadata": {
        "id": "TjQZSybAOH9C"
      },
      "source": [
        "### CONFUSION MATRIX"
      ]
    },
    {
      "cell_type": "code",
      "metadata": {
        "id": "mXP0RxiQ50mm",
        "colab": {
          "base_uri": "https://localhost:8080/",
          "height": 0
        },
        "outputId": "846bd969-edc0-4e60-aa41-0e5aeab49100"
      },
      "source": [
        "\"\"\"\n",
        "from sklearn.metrics import plot_confusion_matrix\n",
        "import matplotlib.pyplot as plt\n",
        "\n",
        "confusion_matrix = torch.zeros(100,100)\n",
        "\n",
        "correct = 0\n",
        "total = 0\n",
        "# since we're not training, we don't need to calculate the gradients for our outputs\n",
        "with torch.no_grad():\n",
        "    for data in valid_loader:\n",
        "        images, labels = data[0].to(device), data[1].to(device)\n",
        "        # calculate outputs by running images through the network\n",
        "        outputs = net.forward(images)\n",
        "        # the class with the highest energy is what we choose as prediction\n",
        "        _, predicted = torch.max(outputs.data, 1)\n",
        "        total += labels.size(0)\n",
        "        correct += (predicted == labels).sum().item()\n",
        "\n",
        "        for t, p in zip(labels.view(-1), predicted.view(-1)):\n",
        "          confusion_matrix[t.long(),p.long()] += 1\n",
        "\n",
        "plt.figure()\n",
        "plt.imshow(confusion_matrix, interpolation=\"nearest\", cmap=plt.cm.Blues)\n",
        "print('Accuracy of the network on the 10000 test images: %d %%' % (100 * correct / total))\n",
        "\"\"\""
      ],
      "execution_count": 15,
      "outputs": [
        {
          "output_type": "execute_result",
          "data": {
            "application/vnd.google.colaboratory.intrinsic+json": {
              "type": "string"
            },
            "text/plain": [
              "'\\nfrom sklearn.metrics import plot_confusion_matrix\\nimport matplotlib.pyplot as plt\\n\\nconfusion_matrix = torch.zeros(100,100)\\n\\ncorrect = 0\\ntotal = 0\\n# since we\\'re not training, we don\\'t need to calculate the gradients for our outputs\\nwith torch.no_grad():\\n    for data in valid_loader:\\n        images, labels = data[0].to(device), data[1].to(device)\\n        # calculate outputs by running images through the network\\n        outputs = net.forward(images)\\n        # the class with the highest energy is what we choose as prediction\\n        _, predicted = torch.max(outputs.data, 1)\\n        total += labels.size(0)\\n        correct += (predicted == labels).sum().item()\\n\\n        for t, p in zip(labels.view(-1), predicted.view(-1)):\\n          confusion_matrix[t.long(),p.long()] += 1\\n\\nplt.figure()\\nplt.imshow(confusion_matrix, interpolation=\"nearest\", cmap=plt.cm.Blues)\\nprint(\\'Accuracy of the network on the 10000 test images: %d %%\\' % (100 * correct / total))\\n'"
            ]
          },
          "metadata": {
            "tags": []
          },
          "execution_count": 15
        }
      ]
    },
    {
      "cell_type": "markdown",
      "metadata": {
        "id": "TckH9XhBXBQb"
      },
      "source": [
        "### TEST (CONFUSION EACH STEP)\n",
        "\n"
      ]
    },
    {
      "cell_type": "code",
      "metadata": {
        "id": "uO7gpTu1XLl-"
      },
      "source": [
        "from sklearn.metrics import plot_confusion_matrix\n",
        "import matplotlib.pyplot as plt\n",
        "\n",
        "def test(testloader, iteration, network, acc):\n",
        "  confusion_matrix = torch.zeros(iteration*10+10,iteration*10+10)\n",
        "  print(\"confusion matrix shape: \", confusion_matrix.shape)\n",
        "  correct = 0\n",
        "  total = 0\n",
        "  print(\"ITERATION: \", iteration)\n",
        "  network.eval()\n",
        "  \n",
        "  # since we're not training, we don't need to calculate the gradients for our outputs\n",
        "  with torch.no_grad():\n",
        "      for data in testloader:\n",
        "          images, labels = data[0].to(device), data[1].to(device)\n",
        "\n",
        "          # calculate outputs by running images through the network\n",
        "          outputs = network.forward(images)\n",
        "\n",
        "          # the class with the highest energy is what we choose as prediction\n",
        "          _, predicted = torch.max(torch.softmax(network.forward(images), dim=1), dim=1, keepdim=False)\n",
        "          total += labels.size(0)\n",
        "          correct += (predicted == labels).sum().item()\n",
        "         \n",
        "          for t, p in zip(labels.view(-1), predicted.view(-1)):\n",
        "            confusion_matrix[t.long(),p.long()] += 1\n",
        "\n",
        "  plt.figure()\n",
        "  plt.imshow(confusion_matrix, interpolation=\"nearest\", cmap=plt.cm.jet)\n",
        "  plt.show()\n",
        "  acc.append(100*correct/total)\n",
        "  print(f'Accuracy of the network on the {iteration} iteration: %d %%' % (100 * correct / total))"
      ],
      "execution_count": 16,
      "outputs": []
    },
    {
      "cell_type": "markdown",
      "metadata": {
        "id": "1kxkDFX6DXo6"
      },
      "source": [
        "### RANDOM CLASSES\n"
      ]
    },
    {
      "cell_type": "markdown",
      "metadata": {
        "id": "_jU3qySqDivk"
      },
      "source": [
        "EXECUTION"
      ]
    },
    {
      "cell_type": "code",
      "metadata": {
        "id": "fKHoN8W9EJBw"
      },
      "source": [
        "import random\n",
        "indices = list(range(0,100))\n",
        "random.shuffle(indices)\n",
        "dict_classes = dict(zip(indices,range(100)))\n",
        "for i in range(len(trainset)):\n",
        "  trainset[i][1] = dict_classes[trainset[i][1]]\n",
        "for j in range(len(testset)):\n",
        "  testset[j][1] = dict_classes[testset[j][1]]"
      ],
      "execution_count": 17,
      "outputs": []
    },
    {
      "cell_type": "code",
      "metadata": {
        "id": "INaUfRGBDkPP",
        "colab": {
          "base_uri": "https://localhost:8080/",
          "height": 1000
        },
        "outputId": "50979018-657a-4ecd-c5f4-d8852b39471c"
      },
      "source": [
        "#TRYING TO RANDOMIZE CLASSES\n",
        "\n",
        "\n",
        "# divided our dataset into sample of 10 classes each\n",
        "# train the network on the first 10 classes\n",
        "# evaluate the network on the first 10 classes\n",
        "# train the network on the second 10 classes (adding 10 output layers)\n",
        "# evaluate the network on the first 20 classes\n",
        "iterations = 10 \n",
        "num_classes = 10 \n",
        "test_iter = [] #initialized here because we test over all the classes not only those one in which I train\n",
        "acc = []\n",
        "val_setL = []\n",
        "for i in range(iterations):\n",
        "  classes_current_iter = range(i*num_classes, i*num_classes+num_classes)\n",
        "  train_iter = []\n",
        "  for j in range(len(trainset)):\n",
        "    if(trainset[j][-1] in classes_current_iter):\n",
        "      train_iter.append(trainset[j])\n",
        "  for l in range(len(testset)):\n",
        "    if (testset[l][-1] in classes_current_iter):\n",
        "      test_iter.append(testset[l])\n",
        "\n",
        " \n",
        "  train_set, val_set = torch.utils.data.random_split(train_iter, [4000, 1000])\n",
        "\n",
        "  for z in range(len(val_set)):\n",
        "    val_setL.append(val_set[z])\n",
        "  \n",
        "\n",
        "\n",
        "  train_loader = torch.utils.data.DataLoader(train_set, shuffle = True, batch_size=batch_size, num_workers=2)\n",
        "  valid_loader = torch.utils.data.DataLoader(val_setL,shuffle = True, batch_size=batch_size, num_workers=2)\n",
        "\n",
        " \n",
        "  test_loader = torch.utils.data.DataLoader(test_iter, shuffle = True, batch_size = batch_size, num_workers=2) \n",
        "  print(\"Train the network, iteration: \", i, \" on classes: \", classes_current_iter)\n",
        "  \n",
        "\n",
        "  print(\"train_set lenght: \", len(train_set))\n",
        "  print(\"val_set length: \", len(val_set))\n",
        "  print(\"val_setL length: \", len(val_setL))\n",
        "\n",
        "\n",
        "  training(train_loader, i, net, device, epochs, num_classes) # Train the network with 10 classes at a time\n",
        "  # print(\"after training: \", net.fc.weight.data)\n",
        "\n",
        "  # Test the network with all classes seen until this iteration on the validation set\n",
        "  test(valid_loader, i, net, acc)\n",
        "  \n",
        "  # Test the network with all classes seen until this iteration on the test set\n",
        "  # test(test_loader, i, net, acc) "
      ],
      "execution_count": null,
      "outputs": [
        {
          "output_type": "stream",
          "text": [
            "Train the network, iteration:  0  on classes:  range(0, 10)\n",
            "train_set lenght:  4000\n",
            "val_set length:  1000\n",
            "val_setL length:  1000\n",
            "[1,    20] loss: 2.135\n",
            "[2,    20] loss: 1.766\n",
            "[3,    20] loss: 1.493\n",
            "[4,    20] loss: 1.317\n",
            "[5,    20] loss: 1.206\n",
            "[6,    20] loss: 1.074\n",
            "[7,    20] loss: 0.901\n",
            "[8,    20] loss: 0.800\n",
            "[9,    20] loss: 0.760\n",
            "[10,    20] loss: 0.650\n",
            "[11,    20] loss: 0.583\n",
            "[12,    20] loss: 0.426\n",
            "[13,    20] loss: 0.336\n",
            "[14,    20] loss: 0.258\n",
            "[15,    20] loss: 0.226\n",
            "[16,    20] loss: 0.219\n",
            "[17,    20] loss: 0.210\n",
            "[18,    20] loss: 0.148\n",
            "[19,    20] loss: 0.269\n",
            "[20,    20] loss: 0.177\n",
            "confusion matrix shape:  torch.Size([10, 10])\n",
            "ITERATION:  0\n"
          ],
          "name": "stdout"
        },
        {
          "output_type": "display_data",
          "data": {
            "image/png": "[encoded data removed]",
            "text/plain": [
              "<Figure size 432x288 with 1 Axes>"
            ]
          },
          "metadata": {
            "tags": [],
            "needs_background": "light"
          }
        },
        {
          "output_type": "stream",
          "text": [
            "Accuracy of the network on the 0 iteration: 51 %\n",
            "Train the network, iteration:  1  on classes:  range(10, 20)\n",
            "train_set lenght:  4000\n",
            "val_set length:  1000\n",
            "val_setL length:  2000\n",
            "[1,    20] loss: 2.544\n",
            "[2,    20] loss: 1.259\n",
            "[3,    20] loss: 1.049\n",
            "[4,    20] loss: 0.776\n",
            "[5,    20] loss: 0.565\n",
            "[6,    20] loss: 0.383\n",
            "[7,    20] loss: 0.281\n",
            "[8,    20] loss: 0.180\n",
            "[9,    20] loss: 0.148\n",
            "[10,    20] loss: 0.122\n",
            "[11,    20] loss: 0.145\n",
            "[12,    20] loss: 0.145\n",
            "[13,    20] loss: 0.095\n",
            "[14,    20] loss: 0.078\n",
            "[15,    20] loss: 0.082\n",
            "[16,    20] loss: 0.038\n",
            "[17,    20] loss: 0.040\n",
            "[18,    20] loss: 0.013\n",
            "[19,    20] loss: 0.018\n",
            "[20,    20] loss: 0.010\n",
            "confusion matrix shape:  torch.Size([20, 20])\n",
            "ITERATION:  1\n"
          ],
          "name": "stdout"
        },
        {
          "output_type": "display_data",
          "data": {
            "image/png": "[encoded data removed]",
            "text/plain": [
              "<Figure size 432x288 with 1 Axes>"
            ]
          },
          "metadata": {
            "tags": [],
            "needs_background": "light"
          }
        },
        {
          "output_type": "stream",
          "text": [
            "Accuracy of the network on the 1 iteration: 31 %\n",
            "Train the network, iteration:  2  on classes:  range(20, 30)\n",
            "train_set lenght:  4000\n",
            "val_set length:  1000\n",
            "val_setL length:  3000\n",
            "[1,    20] loss: 5.803\n",
            "[2,    20] loss: 1.655\n",
            "[3,    20] loss: 1.448\n",
            "[4,    20] loss: 1.154\n",
            "[5,    20] loss: 0.931\n",
            "[6,    20] loss: 0.670\n",
            "[7,    20] loss: 0.470\n",
            "[8,    20] loss: 0.322\n",
            "[9,    20] loss: 0.182\n",
            "[10,    20] loss: 0.117\n",
            "[11,    20] loss: 0.066\n",
            "[12,    20] loss: 0.037\n",
            "[13,    20] loss: 0.036\n",
            "[14,    20] loss: 0.022\n",
            "[15,    20] loss: 0.012\n",
            "[16,    20] loss: 0.004\n",
            "[17,    20] loss: 0.003\n",
            "[18,    20] loss: 0.002\n",
            "[19,    20] loss: 0.004\n",
            "[20,    20] loss: 0.008\n",
            "confusion matrix shape:  torch.Size([30, 30])\n",
            "ITERATION:  2\n"
          ],
          "name": "stdout"
        },
        {
          "output_type": "display_data",
          "data": {
            "image/png": "[encoded data removed]",
            "text/plain": [
              "<Figure size 432x288 with 1 Axes>"
            ]
          },
          "metadata": {
            "tags": [],
            "needs_background": "light"
          }
        },
        {
          "output_type": "stream",
          "text": [
            "Accuracy of the network on the 2 iteration: 20 %\n",
            "Train the network, iteration:  3  on classes:  range(30, 40)\n",
            "train_set lenght:  4000\n",
            "val_set length:  1000\n",
            "val_setL length:  4000\n",
            "[1,    20] loss: 9.796\n",
            "[2,    20] loss: 1.969\n",
            "[3,    20] loss: 1.633\n",
            "[4,    20] loss: 1.623\n",
            "[5,    20] loss: 1.296\n"
          ],
          "name": "stdout"
        }
      ]
    },
    {
      "cell_type": "code",
      "metadata": {
        "id": "LDJu2frr__VJ"
      },
      "source": [
        "from sklearn.metrics import plot_confusion_matrix\n",
        "import matplotlib.pyplot as plt\n",
        "\n",
        "confusion_matrix = torch.zeros(100,100)\n",
        "\n",
        "correct = 0\n",
        "total = 0\n",
        "with torch.no_grad():\n",
        "  for data in testloader:\n",
        "    images, labels = data[0].to(device), data[1].to(device)\n",
        "    \n",
        "    # calculate outputs by running images through the network\n",
        "    outputs = net.forward(images)\n",
        "\n",
        "    # the class with the highest energy is what we choose as prediction\n",
        "    _, predicted = torch.max(torch.softmax(net.forward(images), dim=1), dim=1, keepdim=False)\n",
        "    total += labels.size(0)\n",
        "    correct += (predicted == labels).sum().item()\n",
        "         \n",
        "    for t, p in zip(labels.view(-1), predicted.view(-1)):\n",
        "      confusion_matrix[t.long(),p.long()] += 1\n",
        "\n",
        "plt.figure()\n",
        "plt.imshow(confusion_matrix, interpolation=\"nearest\", cmap=plt.cm.jet)\n",
        "plt.show()\n",
        "print(f'Accuracy of the network: %d %%' % (100 * correct / total))"
      ],
      "execution_count": null,
      "outputs": []
    }
  ]
}