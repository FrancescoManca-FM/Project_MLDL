{
  "nbformat": 4,
  "nbformat_minor": 0,
  "metadata": {
    "colab": {
      "name": "FinetuningSenzaClassiRandom.ipynb",
      "provenance": [],
      "collapsed_sections": [
        "c9XO0l5B9WDO",
        "bSAhwwBr9iZ9",
        "nLE5LnQkZXSI"
      ],
      "toc_visible": true,
      "include_colab_link": true
    },
    "kernelspec": {
      "name": "python3",
      "display_name": "Python 3"
    },
    "language_info": {
      "name": "python"
    },
    "accelerator": "GPU"
  },
  "cells": [
    {
      "cell_type": "markdown",
      "metadata": {
        "id": "view-in-github",
        "colab_type": "text"
      },
      "source": [
        "<a href=\"https://colab.research.google.com/github/FrancescoManca-FM/Project_MLDL/blob/main/FinetuningSenzaClassiRandom.ipynb\" target=\"_parent\"><img src=\"https://colab.research.google.com/assets/colab-badge.svg\" alt=\"Open In Colab\"/></a>"
      ]
    },
    {
      "cell_type": "code",
      "metadata": {
        "id": "UXuDQrvO35Pb"
      },
      "source": [
        "#from google.colab import drive\n",
        "#drive.mount('/content/drive')"
      ],
      "execution_count": null,
      "outputs": []
    },
    {
      "cell_type": "code",
      "metadata": {
        "id": "Aj4HVjkW2RBe"
      },
      "source": [
        "#import sys\n",
        "#sys.path.insert(0,\"/content/drive/MyDrive/OWR-project/Project_MLDL\")"
      ],
      "execution_count": null,
      "outputs": []
    },
    {
      "cell_type": "markdown",
      "metadata": {
        "id": "MXZiclrtCLr7"
      },
      "source": [
        "Classification Network (using Resnet32) on CIFAR100"
      ]
    },
    {
      "cell_type": "code",
      "metadata": {
        "id": "JlNz0nWYCR0L"
      },
      "source": [
        "import torch \n",
        "import torchvision\n",
        "import torchvision.transforms as transforms"
      ],
      "execution_count": null,
      "outputs": []
    },
    {
      "cell_type": "markdown",
      "metadata": {
        "id": "c9XO0l5B9WDO"
      },
      "source": [
        "### Data Load"
      ]
    },
    {
      "cell_type": "code",
      "metadata": {
        "colab": {
          "base_uri": "https://localhost:8080/"
        },
        "id": "CMcd8DV4C1nw",
        "outputId": "041c8749-20f0-4cb8-e426-04509ef1cf9d"
      },
      "source": [
        "# we build a transform to normalize images: Data normalization is an important step which ensures \n",
        "# each input parameter (pixel, in this case) has a similar data distribution. This makes convergence \n",
        "# faster while training the network.\n",
        "transform = transforms.Compose(\n",
        "    [transforms.ToTensor(),\n",
        "     transforms.Normalize((0.5, 0.5, 0.5), (0.5, 0.5, 0.5))])\n",
        "batch_size = 128\n",
        "\n",
        "trainset = torchvision.datasets.CIFAR100(root='./data', train=True, \n",
        "                                         download=True, transform=transform)\n",
        "# DataLoader. Combines a dataset and a sampler, and provides an iterable over the given dataset.\n",
        "# batch_size = how many samples per batch to load\n",
        "trainloader = torch.utils.data.DataLoader(trainset, batch_size=batch_size,\n",
        "                                          shuffle=True, num_workers=2)\n",
        "\n",
        "testset = torchvision.datasets.CIFAR100(root='./data', train=False,\n",
        "                                       download=True, transform=transform)\n",
        "testloader = torch.utils.data.DataLoader(testset, batch_size=batch_size,\n",
        "                                         shuffle=False, num_workers=2)"
      ],
      "execution_count": null,
      "outputs": [
        {
          "output_type": "stream",
          "text": [
            "Files already downloaded and verified\n",
            "Files already downloaded and verified\n"
          ],
          "name": "stdout"
        }
      ]
    },
    {
      "cell_type": "markdown",
      "metadata": {
        "id": "uhi2ESn89cml"
      },
      "source": [
        "### Build the model"
      ]
    },
    {
      "cell_type": "code",
      "metadata": {
        "id": "OZyFOrsg4-L7"
      },
      "source": [
        "import torch.nn as nn\n",
        "import math\n",
        "import torch.utils.model_zoo as model_zoo\n",
        "\n",
        "\n",
        "def conv3x3(in_planes, out_planes, stride=1):\n",
        "    \"\"\"3x3 convolution with padding\"\"\"\n",
        "    return nn.Conv2d(in_planes, out_planes, kernel_size=3, stride=stride,padding=1, bias=False)\n",
        "\n",
        "class BasicBlock(nn.Module):\n",
        "    expansion = 1\n",
        "\n",
        "    def __init__(self, inplanes, planes, stride=1, downsample=None):\n",
        "        super(BasicBlock, self).__init__()\n",
        "        \n",
        "        self.conv1 = conv3x3(inplanes, planes, stride)\n",
        "        self.bn1 = nn.BatchNorm2d(planes)\n",
        "        self.relu = nn.ReLU(inplace=True)\n",
        "        self.conv2 = conv3x3(planes, planes)\n",
        "        self.bn2 = nn.BatchNorm2d(planes)\n",
        "\n",
        "        self.downsample = downsample\n",
        "        self.stride = stride\n",
        "\n",
        "    def forward(self, x):\n",
        "        residual = x\n",
        "\n",
        "        out = self.conv1(x)\n",
        "        out = self.bn1(out)\n",
        "        out = self.relu(out)\n",
        "\n",
        "        out = self.conv2(out)\n",
        "        out = self.bn2(out)\n",
        "\n",
        "        if self.downsample is not None:\n",
        "            residual = self.downsample(x)\n",
        "\n",
        "        out += residual\n",
        "        out = self.relu(out)\n",
        "\n",
        "        return out\n",
        "\n",
        "\n",
        "class Bottleneck(nn.Module):\n",
        "    expansion = 4\n",
        "\n",
        "    def __init__(self, inplanes, planes, stride=1, downsample=None):\n",
        "        super(Bottleneck, self).__init__()\n",
        "        self.conv1 = nn.Conv2d(inplanes, planes, kernel_size=1, bias=False)\n",
        "        self.bn1 = nn.BatchNorm2d(planes)\n",
        "        self.conv2 = nn.Conv2d(planes, planes, kernel_size=3, stride=stride,\n",
        "                               padding=1, bias=False)\n",
        "        self.bn2 = nn.BatchNorm2d(planes)\n",
        "        self.conv3 = nn.Conv2d(planes, planes * self.expansion, kernel_size=1, bias=False)\n",
        "        self.bn3 = nn.BatchNorm2d(planes * self.expansion)\n",
        "        self.relu = nn.ReLU(inplace=True)\n",
        "        self.downsample = downsample\n",
        "        self.stride = stride\n",
        "\n",
        "    def forward(self, x):\n",
        "        residual = x\n",
        "\n",
        "        out = self.conv1(x)\n",
        "        out = self.bn1(out)\n",
        "        out = self.relu(out)\n",
        "\n",
        "        out = self.conv2(out)\n",
        "        out = self.bn2(out)\n",
        "        out = self.relu(out)\n",
        "\n",
        "        out = self.conv3(out)\n",
        "        out = self.bn3(out)\n",
        "\n",
        "        if self.downsample is not None:\n",
        "            residual = self.downsample(x)\n",
        "\n",
        "        out += residual\n",
        "        out = self.relu(out)\n",
        "\n",
        "        return out\n",
        "\n",
        "\n",
        "class ResNet(nn.Module):\n",
        "\n",
        "    def __init__(self, block, layers, num_classes=10):\n",
        "        self.inplanes = 16\n",
        "        super(ResNet, self).__init__()\n",
        "        self.conv1 = nn.Conv2d(3, 16, kernel_size=3, stride=1, padding=1,\n",
        "                               bias=False)\n",
        "        self.bn1 = nn.BatchNorm2d(16)\n",
        "        self.relu = nn.ReLU(inplace=True)\n",
        "        self.layer1 = self._make_layer(block, 16, layers[0])\n",
        "        self.layer2 = self._make_layer(block, 32, layers[1], stride=2)\n",
        "        self.layer3 = self._make_layer(block, 64, layers[2], stride=2)\n",
        "        self.avgpool = nn.AvgPool2d(8, stride=1)\n",
        "\n",
        "        self.fc = nn.Linear(64 * block.expansion, num_classes)\n",
        "\n",
        "        for m in self.modules():\n",
        "            if isinstance(m, nn.Conv2d):\n",
        "                nn.init.kaiming_normal_(m.weight, mode='fan_out', nonlinearity='relu')\n",
        "            elif isinstance(m, nn.BatchNorm2d):\n",
        "                nn.init.constant_(m.weight, 1)\n",
        "                nn.init.constant_(m.bias, 0)\n",
        "\n",
        "    def _make_layer(self, block, planes, blocks, stride=1):\n",
        "        downsample = None\n",
        "        if stride != 1 or self.inplanes != planes * block.expansion:\n",
        "            downsample = nn.Sequential(\n",
        "                nn.Conv2d(self.inplanes, planes * block.expansion,\n",
        "                          kernel_size=1, stride=stride, bias=False),\n",
        "                nn.BatchNorm2d(planes * block.expansion),\n",
        "            )\n",
        "\n",
        "        layers = []\n",
        "        layers.append(block(self.inplanes, planes, stride, downsample))\n",
        "        self.inplanes = planes * block.expansion\n",
        "        for i in range(1, blocks):\n",
        "            layers.append(block(self.inplanes, planes))\n",
        "\n",
        "        return nn.Sequential(*layers)\n",
        "\n",
        "    def forward(self, x):\n",
        "        x = self.conv1(x)\n",
        "        x = self.bn1(x)\n",
        "        x = self.relu(x)\n",
        "\n",
        "        x = self.layer1(x)\n",
        "        x = self.layer2(x)\n",
        "        x = self.layer3(x)\n",
        "\n",
        "        x = self.avgpool(x)\n",
        "        x = x.view(x.size(0), -1)\n",
        "        x = self.fc(x)\n",
        "\n",
        "        return x\n",
        "\n",
        "    def addOutputNodes(self, num_new_outputs):\n",
        "        in_features = self.fc.in_features\n",
        "        out_features = self.fc.out_features\n",
        "        weight = self.fc.weight.data\n",
        "        self.fc = nn.Linear(in_features, out_features + num_new_outputs)\n",
        "        self.fc.weight.data[:out_features] = weight\n",
        "        #print(self.fc.out_features)\n",
        "\n",
        "def resnet20(pretrained=False, **kwargs):\n",
        "    n = 3\n",
        "    model = ResNet(BasicBlock, [n, n, n], **kwargs)\n",
        "    return model\n",
        "\n",
        "def resnet32(pretrained=False, **kwargs):\n",
        "    n = 5\n",
        "    model = ResNet(BasicBlock, [n, n, n], **kwargs)\n",
        "    return model\n",
        "\n",
        "def resnet56(pretrained=False, **kwargs):\n",
        "    n = 9\n",
        "    model = ResNet(Bottleneck, [n, n, n], **kwargs)\n",
        "    return model"
      ],
      "execution_count": null,
      "outputs": []
    },
    {
      "cell_type": "code",
      "metadata": {
        "colab": {
          "base_uri": "https://localhost:8080/"
        },
        "id": "yzrCPkfN5txO",
        "outputId": "fa9e9411-e0f1-42e1-e745-5adb195cb533"
      },
      "source": [
        "net = resnet32()\n",
        "device = torch.device(\"cuda:0\" if torch.cuda.is_available() else 'cpu')\n",
        "net.to(device)"
      ],
      "execution_count": null,
      "outputs": [
        {
          "output_type": "execute_result",
          "data": {
            "text/plain": [
              "ResNet(\n",
              "  (conv1): Conv2d(3, 16, kernel_size=(3, 3), stride=(1, 1), padding=(1, 1), bias=False)\n",
              "  (bn1): BatchNorm2d(16, eps=1e-05, momentum=0.1, affine=True, track_running_stats=True)\n",
              "  (relu): ReLU(inplace=True)\n",
              "  (layer1): Sequential(\n",
              "    (0): BasicBlock(\n",
              "      (conv1): Conv2d(16, 16, kernel_size=(3, 3), stride=(1, 1), padding=(1, 1), bias=False)\n",
              "      (bn1): BatchNorm2d(16, eps=1e-05, momentum=0.1, affine=True, track_running_stats=True)\n",
              "      (relu): ReLU(inplace=True)\n",
              "      (conv2): Conv2d(16, 16, kernel_size=(3, 3), stride=(1, 1), padding=(1, 1), bias=False)\n",
              "      (bn2): BatchNorm2d(16, eps=1e-05, momentum=0.1, affine=True, track_running_stats=True)\n",
              "    )\n",
              "    (1): BasicBlock(\n",
              "      (conv1): Conv2d(16, 16, kernel_size=(3, 3), stride=(1, 1), padding=(1, 1), bias=False)\n",
              "      (bn1): BatchNorm2d(16, eps=1e-05, momentum=0.1, affine=True, track_running_stats=True)\n",
              "      (relu): ReLU(inplace=True)\n",
              "      (conv2): Conv2d(16, 16, kernel_size=(3, 3), stride=(1, 1), padding=(1, 1), bias=False)\n",
              "      (bn2): BatchNorm2d(16, eps=1e-05, momentum=0.1, affine=True, track_running_stats=True)\n",
              "    )\n",
              "    (2): BasicBlock(\n",
              "      (conv1): Conv2d(16, 16, kernel_size=(3, 3), stride=(1, 1), padding=(1, 1), bias=False)\n",
              "      (bn1): BatchNorm2d(16, eps=1e-05, momentum=0.1, affine=True, track_running_stats=True)\n",
              "      (relu): ReLU(inplace=True)\n",
              "      (conv2): Conv2d(16, 16, kernel_size=(3, 3), stride=(1, 1), padding=(1, 1), bias=False)\n",
              "      (bn2): BatchNorm2d(16, eps=1e-05, momentum=0.1, affine=True, track_running_stats=True)\n",
              "    )\n",
              "    (3): BasicBlock(\n",
              "      (conv1): Conv2d(16, 16, kernel_size=(3, 3), stride=(1, 1), padding=(1, 1), bias=False)\n",
              "      (bn1): BatchNorm2d(16, eps=1e-05, momentum=0.1, affine=True, track_running_stats=True)\n",
              "      (relu): ReLU(inplace=True)\n",
              "      (conv2): Conv2d(16, 16, kernel_size=(3, 3), stride=(1, 1), padding=(1, 1), bias=False)\n",
              "      (bn2): BatchNorm2d(16, eps=1e-05, momentum=0.1, affine=True, track_running_stats=True)\n",
              "    )\n",
              "    (4): BasicBlock(\n",
              "      (conv1): Conv2d(16, 16, kernel_size=(3, 3), stride=(1, 1), padding=(1, 1), bias=False)\n",
              "      (bn1): BatchNorm2d(16, eps=1e-05, momentum=0.1, affine=True, track_running_stats=True)\n",
              "      (relu): ReLU(inplace=True)\n",
              "      (conv2): Conv2d(16, 16, kernel_size=(3, 3), stride=(1, 1), padding=(1, 1), bias=False)\n",
              "      (bn2): BatchNorm2d(16, eps=1e-05, momentum=0.1, affine=True, track_running_stats=True)\n",
              "    )\n",
              "  )\n",
              "  (layer2): Sequential(\n",
              "    (0): BasicBlock(\n",
              "      (conv1): Conv2d(16, 32, kernel_size=(3, 3), stride=(2, 2), padding=(1, 1), bias=False)\n",
              "      (bn1): BatchNorm2d(32, eps=1e-05, momentum=0.1, affine=True, track_running_stats=True)\n",
              "      (relu): ReLU(inplace=True)\n",
              "      (conv2): Conv2d(32, 32, kernel_size=(3, 3), stride=(1, 1), padding=(1, 1), bias=False)\n",
              "      (bn2): BatchNorm2d(32, eps=1e-05, momentum=0.1, affine=True, track_running_stats=True)\n",
              "      (downsample): Sequential(\n",
              "        (0): Conv2d(16, 32, kernel_size=(1, 1), stride=(2, 2), bias=False)\n",
              "        (1): BatchNorm2d(32, eps=1e-05, momentum=0.1, affine=True, track_running_stats=True)\n",
              "      )\n",
              "    )\n",
              "    (1): BasicBlock(\n",
              "      (conv1): Conv2d(32, 32, kernel_size=(3, 3), stride=(1, 1), padding=(1, 1), bias=False)\n",
              "      (bn1): BatchNorm2d(32, eps=1e-05, momentum=0.1, affine=True, track_running_stats=True)\n",
              "      (relu): ReLU(inplace=True)\n",
              "      (conv2): Conv2d(32, 32, kernel_size=(3, 3), stride=(1, 1), padding=(1, 1), bias=False)\n",
              "      (bn2): BatchNorm2d(32, eps=1e-05, momentum=0.1, affine=True, track_running_stats=True)\n",
              "    )\n",
              "    (2): BasicBlock(\n",
              "      (conv1): Conv2d(32, 32, kernel_size=(3, 3), stride=(1, 1), padding=(1, 1), bias=False)\n",
              "      (bn1): BatchNorm2d(32, eps=1e-05, momentum=0.1, affine=True, track_running_stats=True)\n",
              "      (relu): ReLU(inplace=True)\n",
              "      (conv2): Conv2d(32, 32, kernel_size=(3, 3), stride=(1, 1), padding=(1, 1), bias=False)\n",
              "      (bn2): BatchNorm2d(32, eps=1e-05, momentum=0.1, affine=True, track_running_stats=True)\n",
              "    )\n",
              "    (3): BasicBlock(\n",
              "      (conv1): Conv2d(32, 32, kernel_size=(3, 3), stride=(1, 1), padding=(1, 1), bias=False)\n",
              "      (bn1): BatchNorm2d(32, eps=1e-05, momentum=0.1, affine=True, track_running_stats=True)\n",
              "      (relu): ReLU(inplace=True)\n",
              "      (conv2): Conv2d(32, 32, kernel_size=(3, 3), stride=(1, 1), padding=(1, 1), bias=False)\n",
              "      (bn2): BatchNorm2d(32, eps=1e-05, momentum=0.1, affine=True, track_running_stats=True)\n",
              "    )\n",
              "    (4): BasicBlock(\n",
              "      (conv1): Conv2d(32, 32, kernel_size=(3, 3), stride=(1, 1), padding=(1, 1), bias=False)\n",
              "      (bn1): BatchNorm2d(32, eps=1e-05, momentum=0.1, affine=True, track_running_stats=True)\n",
              "      (relu): ReLU(inplace=True)\n",
              "      (conv2): Conv2d(32, 32, kernel_size=(3, 3), stride=(1, 1), padding=(1, 1), bias=False)\n",
              "      (bn2): BatchNorm2d(32, eps=1e-05, momentum=0.1, affine=True, track_running_stats=True)\n",
              "    )\n",
              "  )\n",
              "  (layer3): Sequential(\n",
              "    (0): BasicBlock(\n",
              "      (conv1): Conv2d(32, 64, kernel_size=(3, 3), stride=(2, 2), padding=(1, 1), bias=False)\n",
              "      (bn1): BatchNorm2d(64, eps=1e-05, momentum=0.1, affine=True, track_running_stats=True)\n",
              "      (relu): ReLU(inplace=True)\n",
              "      (conv2): Conv2d(64, 64, kernel_size=(3, 3), stride=(1, 1), padding=(1, 1), bias=False)\n",
              "      (bn2): BatchNorm2d(64, eps=1e-05, momentum=0.1, affine=True, track_running_stats=True)\n",
              "      (downsample): Sequential(\n",
              "        (0): Conv2d(32, 64, kernel_size=(1, 1), stride=(2, 2), bias=False)\n",
              "        (1): BatchNorm2d(64, eps=1e-05, momentum=0.1, affine=True, track_running_stats=True)\n",
              "      )\n",
              "    )\n",
              "    (1): BasicBlock(\n",
              "      (conv1): Conv2d(64, 64, kernel_size=(3, 3), stride=(1, 1), padding=(1, 1), bias=False)\n",
              "      (bn1): BatchNorm2d(64, eps=1e-05, momentum=0.1, affine=True, track_running_stats=True)\n",
              "      (relu): ReLU(inplace=True)\n",
              "      (conv2): Conv2d(64, 64, kernel_size=(3, 3), stride=(1, 1), padding=(1, 1), bias=False)\n",
              "      (bn2): BatchNorm2d(64, eps=1e-05, momentum=0.1, affine=True, track_running_stats=True)\n",
              "    )\n",
              "    (2): BasicBlock(\n",
              "      (conv1): Conv2d(64, 64, kernel_size=(3, 3), stride=(1, 1), padding=(1, 1), bias=False)\n",
              "      (bn1): BatchNorm2d(64, eps=1e-05, momentum=0.1, affine=True, track_running_stats=True)\n",
              "      (relu): ReLU(inplace=True)\n",
              "      (conv2): Conv2d(64, 64, kernel_size=(3, 3), stride=(1, 1), padding=(1, 1), bias=False)\n",
              "      (bn2): BatchNorm2d(64, eps=1e-05, momentum=0.1, affine=True, track_running_stats=True)\n",
              "    )\n",
              "    (3): BasicBlock(\n",
              "      (conv1): Conv2d(64, 64, kernel_size=(3, 3), stride=(1, 1), padding=(1, 1), bias=False)\n",
              "      (bn1): BatchNorm2d(64, eps=1e-05, momentum=0.1, affine=True, track_running_stats=True)\n",
              "      (relu): ReLU(inplace=True)\n",
              "      (conv2): Conv2d(64, 64, kernel_size=(3, 3), stride=(1, 1), padding=(1, 1), bias=False)\n",
              "      (bn2): BatchNorm2d(64, eps=1e-05, momentum=0.1, affine=True, track_running_stats=True)\n",
              "    )\n",
              "    (4): BasicBlock(\n",
              "      (conv1): Conv2d(64, 64, kernel_size=(3, 3), stride=(1, 1), padding=(1, 1), bias=False)\n",
              "      (bn1): BatchNorm2d(64, eps=1e-05, momentum=0.1, affine=True, track_running_stats=True)\n",
              "      (relu): ReLU(inplace=True)\n",
              "      (conv2): Conv2d(64, 64, kernel_size=(3, 3), stride=(1, 1), padding=(1, 1), bias=False)\n",
              "      (bn2): BatchNorm2d(64, eps=1e-05, momentum=0.1, affine=True, track_running_stats=True)\n",
              "    )\n",
              "  )\n",
              "  (avgpool): AvgPool2d(kernel_size=8, stride=1, padding=0)\n",
              "  (fc): Linear(in_features=64, out_features=10, bias=True)\n",
              ")"
            ]
          },
          "metadata": {
            "tags": []
          },
          "execution_count": 4
        }
      ]
    },
    {
      "cell_type": "markdown",
      "metadata": {
        "id": "bSAhwwBr9iZ9"
      },
      "source": [
        "### Define the loss and the optimization technique"
      ]
    },
    {
      "cell_type": "code",
      "metadata": {
        "id": "YI6grd9hI2as"
      },
      "source": [
        "lr = 0.01\n",
        "decay = 0.0001\n",
        "epochs = 10\n",
        "momentum = 0.9\n",
        "factor = 5"
      ],
      "execution_count": null,
      "outputs": []
    },
    {
      "cell_type": "code",
      "metadata": {
        "id": "DJqiRlCoI-b0"
      },
      "source": [
        "import torch.optim as optim\n",
        "import torch.nn as nn\n",
        "\n",
        "criterion = nn.CrossEntropyLoss(ignore_index=0)\n",
        "optimizer = optim.SGD(net.parameters(), lr = lr, weight_decay=decay,momentum= momentum)"
      ],
      "execution_count": null,
      "outputs": []
    },
    {
      "cell_type": "markdown",
      "metadata": {
        "id": "LCnzW3XCF0JW"
      },
      "source": [
        "### NON INCREMENTAL"
      ]
    },
    {
      "cell_type": "code",
      "metadata": {
        "id": "R9zwIkLXJPx0",
        "colab": {
          "base_uri": "https://localhost:8080/"
        },
        "outputId": "ba4106fa-6801-4b87-d2d9-6313d20853f1"
      },
      "source": [
        "#train the network\n",
        "for epoch in range(10):\n",
        "\n",
        "  running_loss = 0.0\n",
        "  for i, data in enumerate(trainloader, 0):\n",
        "\n",
        "    # get the inputs; data is a list of  [input,labels]\n",
        "    inputs, labels = data[0].to(device), data[1].to(device)\n",
        "\n",
        "    optimizer.zero_grad() # Sets the gradients of all optimized torch.Tensor to zero.\n",
        "\n",
        "    outputs = net.forward(inputs) # forward: assign weights to each edge in each layer\n",
        "    loss = criterion(outputs,labels) # calculate the loss \n",
        "    loss.backward() # redesign the weights evaluating the performance of the network\n",
        "    optimizer.step() # update parameters \n",
        "\n",
        "    running_loss += loss.item()\n",
        "    if i % 100 == 99:    # print every 100 mini-batches the average value of the loss accumulated in each batch\n",
        "      print('[%d, %5d] loss: %.3f' % (epoch + 1, i + 1, running_loss / 100))\n",
        "      running_loss = 0.0"
      ],
      "execution_count": null,
      "outputs": [
        {
          "output_type": "stream",
          "text": [
            "[1,   100] loss: 4.508\n",
            "[1,   200] loss: 4.198\n",
            "[1,   300] loss: 4.023\n",
            "[2,   100] loss: 3.724\n",
            "[2,   200] loss: 3.646\n",
            "[2,   300] loss: 3.560\n",
            "[3,   100] loss: 3.371\n",
            "[3,   200] loss: 3.293\n",
            "[3,   300] loss: 3.219\n",
            "[4,   100] loss: 3.065\n",
            "[4,   200] loss: 3.013\n",
            "[4,   300] loss: 2.946\n",
            "[5,   100] loss: 2.766\n",
            "[5,   200] loss: 2.744\n",
            "[5,   300] loss: 2.704\n",
            "[6,   100] loss: 2.542\n",
            "[6,   200] loss: 2.505\n",
            "[6,   300] loss: 2.554\n",
            "[7,   100] loss: 2.366\n",
            "[7,   200] loss: 2.357\n",
            "[7,   300] loss: 2.327\n",
            "[8,   100] loss: 2.215\n",
            "[8,   200] loss: 2.174\n",
            "[8,   300] loss: 2.220\n",
            "[9,   100] loss: 2.039\n",
            "[9,   200] loss: 2.106\n",
            "[9,   300] loss: 2.093\n",
            "[10,   100] loss: 1.927\n",
            "[10,   200] loss: 1.958\n",
            "[10,   300] loss: 1.953\n"
          ],
          "name": "stdout"
        }
      ]
    },
    {
      "cell_type": "code",
      "metadata": {
        "colab": {
          "base_uri": "https://localhost:8080/",
          "height": 285
        },
        "id": "g6YoczYtQu90",
        "outputId": "76c7d37a-6b3c-4512-fe27-4b23f2e3dafa"
      },
      "source": [
        "import matplotlib.pyplot as plt\n",
        "\n",
        "confusion_matrix = torch.zeros(100,100)\n",
        "\n",
        "correct = 0\n",
        "total = 0\n",
        "# since we're not training, we don't need to calculate the gradients for our outputs\n",
        "with torch.no_grad():\n",
        "    for data in testloader:\n",
        "        images, labels = data[0].to(device), data[1].to(device)\n",
        "        # calculate outputs by running images through the network\n",
        "        outputs = net(images)\n",
        "        # the class with the highest energy is what we choose as prediction\n",
        "        _, predicted = torch.max(outputs.data, 1)\n",
        "        total += labels.size(0)\n",
        "        correct += (predicted == labels).sum().item()\n",
        "\n",
        "        for t, p in zip(labels.view(-1), predicted.view(-1)):\n",
        "          confusion_matrix[t.long(),p.long()] += 1\n",
        "\n",
        "plt.figure()\n",
        "plt.imshow(confusion_matrix, interpolation=\"nearest\", cmap=plt.cm.Blues)\n",
        "print('Accuracy of the network on the 10000 test images: %d %%' % (100 * correct / total))\n"
      ],
      "execution_count": null,
      "outputs": [
        {
          "output_type": "stream",
          "text": [
            "Accuracy of the network on the 10000 test images: 40 %\n"
          ],
          "name": "stdout"
        },
        {
          "output_type": "display_data",
          "data": {
            "image/png": "[encoded data removed]",
            "text/plain": [
              "<Figure size 432x288 with 1 Axes>"
            ]
          },
          "metadata": {
            "tags": [],
            "needs_background": "light"
          }
        }
      ]
    },
    {
      "cell_type": "markdown",
      "metadata": {
        "id": "IdXyhojz73ba"
      },
      "source": [
        "###INCREMENTAL"
      ]
    },
    {
      "cell_type": "markdown",
      "metadata": {
        "id": "ClFYYN4dYzKf"
      },
      "source": [
        "#### training function"
      ]
    },
    {
      "cell_type": "code",
      "metadata": {
        "id": "qi8z0BUyK9tt"
      },
      "source": [
        "# Each time we call training function we must pass a different trainloader, updated with the following 10 classes\n",
        "def training(trainloader, iteration, network, device, epochs, num_classes):\n",
        "  if (iteration != 0):\n",
        "    # add 10 output nodes to the network\n",
        "    network.addOutputNodes(num_classes)\n",
        "    network.to(device)\n",
        "  \n",
        "  #train the network\n",
        "  for epoch in range(epochs):\n",
        "\n",
        "    running_loss = 0.0\n",
        "    for i, data in enumerate(trainloader, 0):\n",
        "      # get the inputs; data is a list of  [input,labels]\n",
        "      #print(i, data[0])\n",
        "      #inputs, labels = data[0].to(device), data[1].to(device)\n",
        "\n",
        "      inputs = data[0].to(device)\n",
        "      labels = data[1].to(device)\n",
        "      optimizer.zero_grad() # Sets the gradients of all optimized torch.Tensor to zero.\n",
        "\n",
        "      outputs = network.forward(inputs) # forward: assign weights to each edge in each layer\n",
        "      loss = criterion(outputs,labels) # calculate the loss \n",
        "      loss.backward() # redesign the weights evaluating the performance of the network\n",
        "      optimizer.step() # update parameters \n",
        "\n",
        "      running_loss += loss.item()\n",
        "      if i % 20 == 19:    # print every 20 mini-batches the average value of the loss accumulated in each batch\n",
        "        print('[%d, %5d] loss: %.3f' % (epoch + 1, i + 1, running_loss / 20))\n",
        "        running_loss = 0.0"
      ],
      "execution_count": null,
      "outputs": []
    },
    {
      "cell_type": "markdown",
      "metadata": {
        "id": "C9vHvoVoY4XR"
      },
      "source": [
        "####test function"
      ]
    },
    {
      "cell_type": "code",
      "metadata": {
        "id": "lmbA81iYSSSc"
      },
      "source": [
        "def test(testloader, iteration, network, acc):\n",
        "  correct = 0\n",
        "  total = 0\n",
        "  print(\"ITERATION: \", iteration)\n",
        "  # if(iteration == 9):\n",
        "  #   confusion_matrix = torch.zeros(100,100)\n",
        "  # since we're not training, we don't need to calculate the gradients for our outputs\n",
        "  with torch.no_grad():\n",
        "      for data in testloader:\n",
        "          images, labels = data[0].to(device), data[1].to(device)\n",
        "          # calculate outputs by running images through the network\n",
        "          outputs = network.forward(images)\n",
        "          # the class with the highest energy is what we choose as prediction\n",
        "          _, predicted = torch.max(outputs.data, 1)\n",
        "          total += labels.size(0)\n",
        "          correct += (predicted == labels).sum().item()\n",
        "          # if(iteration == 9):\n",
        "          #   for t, p in zip(labels.view(-1), predicted.view(-1)):\n",
        "          #     confusion_matrix[t.long(),p.long()] += 1\n",
        "         \n",
        "  # if(iteration == 9):          \n",
        "  #   plt.figure()\n",
        "  #   plt.imshow(confusion_matrix,interpolation=\"nearest\",cmap=plt.cm.Blues)\n",
        "  acc.append(100*correct/total)\n",
        "  print(f'Accuracy of the network on the {iteration} iteration: %d %%' % (100 * correct / total))"
      ],
      "execution_count": null,
      "outputs": []
    },
    {
      "cell_type": "markdown",
      "metadata": {
        "id": "8BBkS-svY697"
      },
      "source": [
        "#### train execution"
      ]
    },
    {
      "cell_type": "code",
      "metadata": {
        "id": "wDn00aWqQ2FM",
        "colab": {
          "base_uri": "https://localhost:8080/"
        },
        "outputId": "1ef8f7af-f0c8-43ef-8dcd-9dbb68efc894"
      },
      "source": [
        "# divided our dataset into sample of 10 classes each\n",
        "# train the network on the first 10 classes\n",
        "# evaluate the network on the first 10 classes\n",
        "# train the network on the second 10 classes (adding 10 output layers)\n",
        "# evaluate the network on the first 20 classes\n",
        "iterations=20\n",
        "num_classes = 5\n",
        "test_set = [] #initialized here because we test over all the classes not only those one in which I train\n",
        "acc = []\n",
        "import random\n",
        "#indices = list(range(0,100))\n",
        "#random.shuffle(indices)\n",
        "for i in range(iterations):\n",
        "  classes_current_iter = range(i*num_classes, i*num_classes+num_classes)\n",
        "  train_iter = [] \n",
        "  for j in range(len(trainset)):\n",
        "    if(trainset[j][-1] in classes_current_iter):\n",
        "      test_set.append(trainset[j]) \n",
        "      train_iter.append(trainset[j])\n",
        "\n",
        "\n",
        "  train_loader = torch.utils.data.DataLoader(train_iter, shuffle = True, batch_size=batch_size, num_workers=2)\n",
        "  valid_loader = torch.utils.data.DataLoader(test_set, shuffle = True, batch_size = batch_size, num_workers=2) \n",
        "  training(train_loader, i, net, device, epochs, num_classes) # Train the network with 10 classes at a time\n",
        "\n",
        "  test(valid_loader, i, net, acc) # Test the network with all classes seen until this iteration\n",
        "\n",
        "  # train loader contains at each iteration the new 10 classes used to evaluate the network, while valid loader contains all classes seen so far"
      ],
      "execution_count": null,
      "outputs": [
        {
          "output_type": "stream",
          "text": [
            "[1,    20] loss: 1.474\n",
            "[2,    20] loss: 1.059\n",
            "[3,    20] loss: 0.906\n",
            "[4,    20] loss: 0.832\n",
            "[5,    20] loss: 0.786\n",
            "[6,    20] loss: 0.704\n",
            "[7,    20] loss: 0.647\n",
            "[8,    20] loss: 0.581\n",
            "[9,    20] loss: 0.528\n",
            "[10,    20] loss: 0.518\n",
            "ITERATION:  0\n",
            "Accuracy of the network on the 0 iteration: 65 %\n",
            "[1,    20] loss: 6.907\n",
            "[2,    20] loss: 3.219\n",
            "[3,    20] loss: 2.862\n",
            "[4,    20] loss: 2.783\n",
            "[5,    20] loss: 2.755\n",
            "[6,    20] loss: 2.738\n",
            "[7,    20] loss: 2.730\n",
            "[8,    20] loss: 2.725\n",
            "[9,    20] loss: 2.719\n",
            "[10,    20] loss: 2.716\n",
            "ITERATION:  1\n",
            "Accuracy of the network on the 1 iteration: 10 %\n",
            "[1,    20] loss: 3.024\n",
            "[2,    20] loss: 2.981\n",
            "[3,    20] loss: 2.955\n",
            "[4,    20] loss: 2.942\n",
            "[5,    20] loss: 2.941\n",
            "[6,    20] loss: 2.939\n",
            "[7,    20] loss: 2.938\n",
            "[8,    20] loss: 2.936\n",
            "[9,    20] loss: 2.931\n",
            "[10,    20] loss: 2.927\n",
            "ITERATION:  2\n",
            "Accuracy of the network on the 2 iteration: 6 %\n",
            "[1,    20] loss: 3.197\n",
            "[2,    20] loss: 3.190\n",
            "[3,    20] loss: 3.183\n",
            "[4,    20] loss: 3.170\n",
            "[5,    20] loss: 3.157\n",
            "[6,    20] loss: 3.150\n",
            "[7,    20] loss: 3.124\n",
            "[8,    20] loss: 3.088\n",
            "[9,    20] loss: 3.032\n",
            "[10,    20] loss: 2.955\n",
            "ITERATION:  3\n",
            "Accuracy of the network on the 3 iteration: 5 %\n",
            "[1,    20] loss: 3.458\n",
            "[2,    20] loss: 3.320\n",
            "[3,    20] loss: 3.190\n",
            "[4,    20] loss: 3.042\n",
            "[5,    20] loss: 2.894\n",
            "[6,    20] loss: 2.719\n",
            "[7,    20] loss: 2.519\n",
            "[8,    20] loss: 2.295\n",
            "[9,    20] loss: 2.093\n",
            "[10,    20] loss: 1.928\n",
            "ITERATION:  4\n",
            "Accuracy of the network on the 4 iteration: 11 %\n",
            "[1,    20] loss: 4.220\n",
            "[2,    20] loss: 3.720\n",
            "[3,    20] loss: 3.584\n",
            "[4,    20] loss: 3.471\n",
            "[5,    20] loss: 3.383\n",
            "[6,    20] loss: 3.319\n",
            "[7,    20] loss: 3.246\n",
            "[8,    20] loss: 3.175\n",
            "[9,    20] loss: 3.094\n",
            "[10,    20] loss: 3.029\n",
            "ITERATION:  5\n",
            "Accuracy of the network on the 5 iteration: 5 %\n",
            "[1,    20] loss: 3.691\n",
            "[2,    20] loss: 3.403\n",
            "[3,    20] loss: 3.251\n",
            "[4,    20] loss: 3.114\n",
            "[5,    20] loss: 2.959\n",
            "[6,    20] loss: 2.767\n",
            "[7,    20] loss: 2.549\n",
            "[8,    20] loss: 2.372\n",
            "[9,    20] loss: 2.260\n",
            "[10,    20] loss: 2.165\n",
            "ITERATION:  6\n",
            "Accuracy of the network on the 6 iteration: 7 %\n",
            "[1,    20] loss: 4.238\n",
            "[2,    20] loss: 3.712\n",
            "[3,    20] loss: 3.510\n",
            "[4,    20] loss: 3.326\n",
            "[5,    20] loss: 3.133\n",
            "[6,    20] loss: 3.000\n",
            "[7,    20] loss: 2.904\n",
            "[8,    20] loss: 2.789\n",
            "[9,    20] loss: 2.677\n",
            "[10,    20] loss: 2.593\n",
            "ITERATION:  7\n",
            "Accuracy of the network on the 7 iteration: 5 %\n",
            "[1,    20] loss: 4.726\n",
            "[2,    20] loss: 3.992\n",
            "[3,    20] loss: 3.779\n",
            "[4,    20] loss: 3.635\n",
            "[5,    20] loss: 3.520\n",
            "[6,    20] loss: 3.449\n",
            "[7,    20] loss: 3.363\n",
            "[8,    20] loss: 3.261\n",
            "[9,    20] loss: 3.182\n",
            "[10,    20] loss: 3.110\n",
            "ITERATION:  8\n",
            "Accuracy of the network on the 8 iteration: 3 %\n",
            "[1,    20] loss: 4.111\n",
            "[2,    20] loss: 3.530\n",
            "[3,    20] loss: 3.060\n",
            "[4,    20] loss: 2.630\n",
            "[5,    20] loss: 2.247\n",
            "[6,    20] loss: 1.922\n",
            "[7,    20] loss: 1.704\n",
            "[8,    20] loss: 1.551\n",
            "[9,    20] loss: 1.426\n",
            "[10,    20] loss: 1.302\n",
            "ITERATION:  9\n",
            "Accuracy of the network on the 9 iteration: 7 %\n",
            "[1,    20] loss: 4.788\n",
            "[2,    20] loss: 3.652\n",
            "[3,    20] loss: 3.151\n",
            "[4,    20] loss: 2.841\n",
            "[5,    20] loss: 2.601\n",
            "[6,    20] loss: 2.402\n",
            "[7,    20] loss: 2.241\n",
            "[8,    20] loss: 2.074\n",
            "[9,    20] loss: 1.882\n",
            "[10,    20] loss: 1.704\n",
            "ITERATION:  10\n",
            "Accuracy of the network on the 10 iteration: 6 %\n",
            "[1,    20] loss: 5.038\n",
            "[2,    20] loss: 3.767\n",
            "[3,    20] loss: 3.325\n",
            "[4,    20] loss: 3.041\n",
            "[5,    20] loss: 2.847\n",
            "[6,    20] loss: 2.700\n",
            "[7,    20] loss: 2.539\n",
            "[8,    20] loss: 2.374\n",
            "[9,    20] loss: 2.255\n",
            "[10,    20] loss: 2.158\n",
            "ITERATION:  11\n",
            "Accuracy of the network on the 11 iteration: 4 %\n",
            "[1,    20] loss: 4.372\n",
            "[2,    20] loss: 3.188\n",
            "[3,    20] loss: 2.638\n",
            "[4,    20] loss: 2.225\n",
            "[5,    20] loss: 1.925\n",
            "[6,    20] loss: 1.735\n",
            "[7,    20] loss: 1.538\n",
            "[8,    20] loss: 1.370\n",
            "[9,    20] loss: 1.310\n",
            "[10,    20] loss: 1.178\n",
            "ITERATION:  12\n",
            "Accuracy of the network on the 12 iteration: 5 %\n",
            "[1,    20] loss: 4.999\n",
            "[2,    20] loss: 3.700\n",
            "[3,    20] loss: 3.142\n",
            "[4,    20] loss: 2.806\n",
            "[5,    20] loss: 2.565\n",
            "[6,    20] loss: 2.314\n",
            "[7,    20] loss: 2.112\n",
            "[8,    20] loss: 1.939\n",
            "[9,    20] loss: 1.838\n",
            "[10,    20] loss: 1.758\n",
            "ITERATION:  13\n",
            "Accuracy of the network on the 13 iteration: 4 %\n",
            "[1,    20] loss: 4.667\n",
            "[2,    20] loss: 3.442\n",
            "[3,    20] loss: 2.920\n",
            "[4,    20] loss: 2.547\n",
            "[5,    20] loss: 2.301\n",
            "[6,    20] loss: 2.111\n",
            "[7,    20] loss: 1.950\n",
            "[8,    20] loss: 1.772\n",
            "[9,    20] loss: 1.681\n",
            "[10,    20] loss: 1.583\n",
            "ITERATION:  14\n",
            "Accuracy of the network on the 14 iteration: 4 %\n",
            "[1,    20] loss: 5.481\n",
            "[2,    20] loss: 4.455\n",
            "[3,    20] loss: 4.000\n",
            "[4,    20] loss: 3.519\n",
            "[5,    20] loss: 3.116\n",
            "[6,    20] loss: 2.795\n",
            "[7,    20] loss: 2.569\n",
            "[8,    20] loss: 2.371\n",
            "[9,    20] loss: 2.185\n",
            "[10,    20] loss: 2.029\n",
            "ITERATION:  15\n",
            "Accuracy of the network on the 15 iteration: 4 %\n",
            "[1,    20] loss: 5.184\n",
            "[2,    20] loss: 4.008\n",
            "[3,    20] loss: 3.511\n",
            "[4,    20] loss: 3.145\n",
            "[5,    20] loss: 2.856\n",
            "[6,    20] loss: 2.575\n",
            "[7,    20] loss: 2.347\n",
            "[8,    20] loss: 2.148\n",
            "[9,    20] loss: 2.011\n",
            "[10,    20] loss: 1.843\n",
            "ITERATION:  16\n",
            "Accuracy of the network on the 16 iteration: 3 %\n",
            "[1,    20] loss: 5.541\n",
            "[2,    20] loss: 4.257\n",
            "[3,    20] loss: 3.630\n",
            "[4,    20] loss: 3.165\n",
            "[5,    20] loss: 2.800\n",
            "[6,    20] loss: 2.546\n",
            "[7,    20] loss: 2.315\n",
            "[8,    20] loss: 2.122\n",
            "[9,    20] loss: 2.096\n",
            "[10,    20] loss: 1.862\n",
            "ITERATION:  17\n",
            "Accuracy of the network on the 17 iteration: 4 %\n",
            "[1,    20] loss: 5.453\n",
            "[2,    20] loss: 3.903\n",
            "[3,    20] loss: 3.318\n",
            "[4,    20] loss: 2.944\n",
            "[5,    20] loss: 2.667\n",
            "[6,    20] loss: 2.419\n",
            "[7,    20] loss: 2.248\n",
            "[8,    20] loss: 2.138\n",
            "[9,    20] loss: 1.954\n",
            "[10,    20] loss: 1.845\n",
            "ITERATION:  18\n",
            "Accuracy of the network on the 18 iteration: 3 %\n",
            "[1,    20] loss: 5.373\n",
            "[2,    20] loss: 3.880\n",
            "[3,    20] loss: 3.181\n",
            "[4,    20] loss: 2.733\n",
            "[5,    20] loss: 2.421\n",
            "[6,    20] loss: 2.189\n",
            "[7,    20] loss: 1.931\n",
            "[8,    20] loss: 1.789\n",
            "[9,    20] loss: 1.679\n",
            "[10,    20] loss: 1.518\n",
            "ITERATION:  19\n",
            "Accuracy of the network on the 19 iteration: 4 %\n"
          ],
          "name": "stdout"
        }
      ]
    },
    {
      "cell_type": "code",
      "metadata": {
        "id": "ir9FJcoLhcNh"
      },
      "source": [
        ""
      ],
      "execution_count": null,
      "outputs": []
    },
    {
      "cell_type": "markdown",
      "metadata": {
        "id": "nLE5LnQkZXSI"
      },
      "source": [
        "#### confusion matrix\n"
      ]
    },
    {
      "cell_type": "code",
      "metadata": {
        "colab": {
          "base_uri": "https://localhost:8080/",
          "height": 285
        },
        "id": "yw2RugH6WcEv",
        "outputId": "738fbe2d-b607-4ba6-b2fa-4615774377e3"
      },
      "source": [
        "from sklearn.metrics import plot_confusion_matrix\n",
        "import matplotlib.pyplot as plt\n",
        "\n",
        "confusion_matrix = torch.zeros(100,100)\n",
        "\n",
        "correct = 0\n",
        "total = 0\n",
        "# since we're not training, we don't need to calculate the gradients for our outputs\n",
        "with torch.no_grad():\n",
        "    for data in valid_loader:\n",
        "        images, labels = data[0].to(device), data[1].to(device)\n",
        "        # calculate outputs by running images through the network\n",
        "        outputs = net.forward(images)\n",
        "        # the class with the highest energy is what we choose as prediction\n",
        "        _, predicted = torch.max(outputs.data, 1)\n",
        "        total += labels.size(0)\n",
        "        correct += (predicted == labels).sum().item()\n",
        "\n",
        "        for t, p in zip(labels.view(-1), predicted.view(-1)):\n",
        "          confusion_matrix[t.long(),p.long()] += 1\n",
        "\n",
        "plt.figure()\n",
        "plt.imshow(confusion_matrix, interpolation=\"nearest\", cmap=plt.cm.Blues)\n",
        "print('Accuracy of the network on the 10000 test images: %d %%' % (100 * correct / total))"
      ],
      "execution_count": null,
      "outputs": [
        {
          "output_type": "stream",
          "text": [
            "Accuracy of the network on the 10000 test images: 4 %\n"
          ],
          "name": "stdout"
        },
        {
          "output_type": "display_data",
          "data": {
            "image/png": "[encoded data removed]",
            "text/plain": [
              "<Figure size 432x288 with 1 Axes>"
            ]
          },
          "metadata": {
            "tags": [],
            "needs_background": "light"
          }
        }
      ]
    },
    {
      "cell_type": "code",
      "metadata": {
        "id": "RprH4sRamKQd",
        "colab": {
          "base_uri": "https://localhost:8080/"
        },
        "outputId": "f9829beb-176b-4800-e4b1-4cc788a6212e"
      },
      "source": [
        "net.fc"
      ],
      "execution_count": null,
      "outputs": [
        {
          "output_type": "execute_result",
          "data": {
            "text/plain": [
              "Linear(in_features=64, out_features=105, bias=True)"
            ]
          },
          "metadata": {
            "tags": []
          },
          "execution_count": 12
        }
      ]
    }
  ]
}